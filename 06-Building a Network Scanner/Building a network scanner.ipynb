{
 "cells": [
  {
   "cell_type": "markdown",
   "id": "0b2616eb-c8e8-4aad-9234-f55acc159379",
   "metadata": {},
   "source": [
    "Building a network scanner with Python can be an exciting way to learn about networking and Python programming. Below is a step-by-step guide to creating a simple network scanner using the socket and ipaddress modules.\n",
    "\n",
    "**Step 1: Understand the Basics**\n",
    "\n",
    "A network scanner probes devices in a network to detect active hosts and open ports. It uses:\n",
    "\n",
    "* *IP Address Range:* The range of addresses to scan.\n",
    "* Port Scanning: Checking specific ports to see if they are open.\n",
    "\n",
    "We will use the following modules:\n",
    "\n",
    "* *socket:* To connect to devices and check port status.\n",
    "* *ipaddress:* To handle IP ranges easily.\n",
    "\n",
    "*Step 2: Set Up Your Environment*\n",
    "\n",
    "* Install Python (if not already installed). Use Python 3.6 or higher.\n",
    "* Create a new Python file, e.g., network_scanner.py.\n",
    "\n",
    "**Step 3: Import Necessary Libraries**\n",
    "\n",
    "Start by importing the required libraries:"
   ]
  },
  {
   "cell_type": "code",
   "execution_count": 1,
   "id": "bcba5c02-f65a-4803-aceb-0a60a9f83559",
   "metadata": {},
   "outputs": [],
   "source": [
    "import socket\n",
    "import ipaddress"
   ]
  },
  {
   "cell_type": "markdown",
   "id": "3087cbe5-e218-4621-9d54-d8f56a274640",
   "metadata": {},
   "source": [
    "**Step 4: Write a Function to Scan a Single IP and Port**\n",
    "\n",
    "This function will attempt to connect to a given IP and port to check if the port is open."
   ]
  },
  {
   "cell_type": "code",
   "execution_count": 2,
   "id": "727ceb70-3b66-49a4-bdd6-fc139a5817f4",
   "metadata": {},
   "outputs": [],
   "source": [
    "def scan_port(ip, port):\n",
    "    try:\n",
    "        # Create a socket object\n",
    "        with socket.socket(socket.AF_INET, socket.SOCK_STREAM) as s:\n",
    "            s.settimeout(1)  # Set a timeout for the connection\n",
    "            s.connect((ip, port))\n",
    "            return True  # Port is open\n",
    "    except:\n",
    "        return False  # Port is closed"
   ]
  },
  {
   "cell_type": "markdown",
   "id": "50229dd2-80bb-4100-ac3e-d45ff888ffe2",
   "metadata": {},
   "source": [
    "**Step 5: Write a Function to Scan a Range of IPs**\n",
    "    \n",
    "Use the ipaddress module to handle the range of IP addresses."
   ]
  },
  {
   "cell_type": "code",
   "execution_count": 3,
   "id": "8c4bb633-b3ec-494f-bf95-c933313f7ee7",
   "metadata": {},
   "outputs": [],
   "source": [
    "def scan_network(network, ports):\n",
    "    try:\n",
    "        # Parse the network (e.g., \"192.168.1.0/24\")\n",
    "        ip_net = ipaddress.ip_network(network, strict=False)\n",
    "        for ip in ip_net.hosts():  # Iterate over all valid hosts\n",
    "            print(f\"Scanning IP: {ip}\")\n",
    "            for port in ports:\n",
    "                if scan_port(str(ip), port):\n",
    "                    print(f\"[+] Found open port {port} on {ip}\")\n",
    "    except ValueError as e:\n",
    "        print(f\"Invalid network: {e}\")"
   ]
  },
  {
   "cell_type": "markdown",
   "id": "6d8c167d-6bc1-4f66-a438-1e3c059d1574",
   "metadata": {},
   "source": [
    "**Step 6: Create a User Interface**\n",
    "\n",
    "Allow the user to input the network range and ports to scan."
   ]
  },
  {
   "cell_type": "code",
   "execution_count": null,
   "id": "6899a6dc-a61a-4c7c-8435-3653e5213749",
   "metadata": {},
   "outputs": [],
   "source": [
    "if __name__ == \"__main__\":\n",
    "    # Input network and port range\n",
    "    network = input(\"Enter the network (e.g., 192.168.1.0/24): \")\n",
    "    ports = input(\"Enter ports to scan (comma-separated, e.g., 22,80,443): \")\n",
    "    \n",
    "    # Convert ports to a list of integers\n",
    "    ports = [int(port.strip()) for port in ports.split(\",\")]\n",
    "\n",
    "    # Start scanning\n",
    "    print(f\"Scanning network: {network}\")\n",
    "    scan_network(network, ports)"
   ]
  },
  {
   "cell_type": "markdown",
   "id": "9fdd07a1-3fa5-4b6f-a7cc-308f0647d68d",
   "metadata": {},
   "source": [
    "**Step 7: Test the Scanner**\n",
    "\n",
    "* Save the script as network_scanner.py.\n",
    "* Run it in your terminal or IDE:"
   ]
  },
  {
   "cell_type": "code",
   "execution_count": null,
   "id": "099728d1-c398-4dfa-bacb-5768f8f30299",
   "metadata": {},
   "outputs": [],
   "source": [
    "python network_scanner.py"
   ]
  },
  {
   "cell_type": "markdown",
   "id": "0fb690a2-4efb-4a61-a4b6-4e71adf29919",
   "metadata": {},
   "source": [
    "* Enter a network range (e.g., 192.168.1.0/24) and ports to scan (e.g., 22, 80, 443)."
   ]
  },
  {
   "cell_type": "markdown",
   "id": "d7507b04-1ef9-44a5-a758-f619177672f5",
   "metadata": {},
   "source": [
    "**Complete Code**"
   ]
  },
  {
   "cell_type": "code",
   "execution_count": 5,
   "id": "96f28c64-39cf-43d3-b768-8e53327257ad",
   "metadata": {},
   "outputs": [
    {
     "name": "stdin",
     "output_type": "stream",
     "text": [
      "Enter the network (e.g., 192.168.1.0/24):  192.168.1.0/29\n",
      "Enter ports to scan (comma-separated, e.g., 22,80,443):  80,443\n"
     ]
    },
    {
     "name": "stdout",
     "output_type": "stream",
     "text": [
      "Scanning network: 192.168.1.0/29\n",
      "Scanning IP: 192.168.1.1\n",
      "[+] Found open port 80 on 192.168.1.1\n",
      "[+] Found open port 443 on 192.168.1.1\n",
      "Scanning IP: 192.168.1.2\n",
      "Scanning IP: 192.168.1.3\n",
      "Scanning IP: 192.168.1.4\n",
      "Scanning IP: 192.168.1.5\n",
      "Scanning IP: 192.168.1.6\n"
     ]
    }
   ],
   "source": [
    "import socket\n",
    "import ipaddress\n",
    "\n",
    "def scan_port(ip, port):\n",
    "    try:\n",
    "        with socket.socket(socket.AF_INET, socket.SOCK_STREAM) as s:\n",
    "            s.settimeout(1)\n",
    "            s.connect((ip, port))\n",
    "            return True\n",
    "    except:\n",
    "        return False\n",
    "\n",
    "def scan_network(network, ports):\n",
    "    try:\n",
    "        ip_net = ipaddress.ip_network(network, strict=False)\n",
    "        for ip in ip_net.hosts():\n",
    "            print(f\"Scanning IP: {ip}\")\n",
    "            for port in ports:\n",
    "                if scan_port(str(ip), port):\n",
    "                    print(f\"[+] Found open port {port} on {ip}\")\n",
    "    except ValueError as e:\n",
    "        print(f\"Invalid network: {e}\")\n",
    "\n",
    "if __name__ == \"__main__\":\n",
    "    network = input(\"Enter the network (e.g., 192.168.1.0/24): \")\n",
    "    ports = input(\"Enter ports to scan (comma-separated, e.g., 22,80,443): \")\n",
    "    ports = [int(port.strip()) for port in ports.split(\",\")]\n",
    "    print(f\"Scanning network: {network}\")\n",
    "    scan_network(network, ports)"
   ]
  }
 ],
 "metadata": {
  "kernelspec": {
   "display_name": "Python 3 (ipykernel)",
   "language": "python",
   "name": "python3"
  },
  "language_info": {
   "codemirror_mode": {
    "name": "ipython",
    "version": 3
   },
   "file_extension": ".py",
   "mimetype": "text/x-python",
   "name": "python",
   "nbconvert_exporter": "python",
   "pygments_lexer": "ipython3",
   "version": "3.12.2"
  }
 },
 "nbformat": 4,
 "nbformat_minor": 5
}
