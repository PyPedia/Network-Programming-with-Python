{
 "cells": [
  {
   "cell_type": "markdown",
   "id": "e7613312-dd21-44cc-af3d-7b04075ac06b",
   "metadata": {},
   "source": [
    "The *Atbash Cipher* is a *substitution cipher* that replaces each letter of the alphabet with its reverse counterpart. For example, in the English alphabet, 'A' is replaced with 'Z', 'B' with 'Y', and so on.\n",
    "\n",
    "Let's go through the steps to encrypt and decrypt a message using the Atbash Cipher with a practical example.\n",
    "\n",
    "**Step-by-Step Explanation**\n",
    "\n",
    "Step 1: Understand the Atbash Cipher Rule\n",
    "\n",
    "1. Write down the English alphabet:"
   ]
  },
  {
   "cell_type": "code",
   "execution_count": null,
   "id": "3918f6c7-8e64-498f-b521-453db335b464",
   "metadata": {},
   "outputs": [],
   "source": [
    "Alphabet:  A B C D E F G H I J K L M N O P Q R S T U V W X Y Z\n",
    "Reverse:   Z Y X W V U T S R Q P O N M L K J I H G F E D C B A"
   ]
  },
  {
   "cell_type": "markdown",
   "id": "85e571c4-be8d-4d93-9e73-685aa2ab6e2d",
   "metadata": {},
   "source": [
    "Each letter in the message is replaced by its counterpart in the reverse alphabet.\n",
    "\n",
    "**Step 2: Encrypt a Message**\n",
    "    \n",
    "Suppose we want to encrypt the message: HELLO.\n",
    "\n",
    "1. For each letter in \"HELLO\", find its reverse counterpart:\n",
    "\n",
    "* H → S\n",
    "* E → V\n",
    "* L → O\n",
    "* L → O\n",
    "* O → L\n",
    "\n",
    "2. Replace the letters to get the ciphertext: SVOOL.\n",
    "\n",
    "**Step 3: Decrypt a Message**\n",
    "\n",
    "Decrypting is the same as encrypting because the Atbash Cipher is symmetric:\n",
    "\n",
    "1. For each letter in \"SVOOL\", find its reverse counterpart:    \n",
    "\n",
    "* S → H\n",
    "* V → E\n",
    "* O → L\n",
    "* O → L\n",
    "* L → O\n",
    "\n",
    "Replace the letters to get the original plaintext: HELLO.\n",
    "\n",
    "**Practical Python Implementation**\n",
    "\n",
    "Here’s how you can implement the Atbash Cipher in Python:"
   ]
  },
  {
   "cell_type": "code",
   "execution_count": 2,
   "id": "e5b17d84-8b50-4828-8f94-4fb3859019b6",
   "metadata": {},
   "outputs": [
    {
     "name": "stdout",
     "output_type": "stream",
     "text": [
      "Ciphertext: SVOOL\n",
      "Decrypted Text: HELLO\n"
     ]
    }
   ],
   "source": [
    "def atbash_cipher(text):\n",
    "    # Define the alphabet\n",
    "    alphabet = 'ABCDEFGHIJKLMNOPQRSTUVWXYZ'\n",
    "    reverse_alphabet = alphabet[::-1]  # Reverse the alphabet\n",
    "    \n",
    "    # Create a mapping for the cipher\n",
    "    atbash_mapping = {alphabet[i]: reverse_alphabet[i] for i in range(len(alphabet))}\n",
    "    \n",
    "    # Encrypt/Decrypt the text\n",
    "    result = ''\n",
    "    for char in text.upper():  # Convert to uppercase\n",
    "        if char in atbash_mapping:\n",
    "            result += atbash_mapping[char]\n",
    "        else:\n",
    "            result += char  # Keep non-alphabet characters unchanged\n",
    "    return result\n",
    "\n",
    "# Example Usage\n",
    "plaintext = \"HELLO\"\n",
    "ciphertext = atbash_cipher(plaintext)\n",
    "print(\"Ciphertext:\", ciphertext)  # Output: SVOOL\n",
    "\n",
    "# Decrypting is the same process\n",
    "decrypted_text = atbash_cipher(ciphertext)\n",
    "print(\"Decrypted Text:\", decrypted_text)  # Output: HELLO"
   ]
  }
 ],
 "metadata": {
  "kernelspec": {
   "display_name": "Python 3 (ipykernel)",
   "language": "python",
   "name": "python3"
  },
  "language_info": {
   "codemirror_mode": {
    "name": "ipython",
    "version": 3
   },
   "file_extension": ".py",
   "mimetype": "text/x-python",
   "name": "python",
   "nbconvert_exporter": "python",
   "pygments_lexer": "ipython3",
   "version": "3.12.2"
  }
 },
 "nbformat": 4,
 "nbformat_minor": 5
}
