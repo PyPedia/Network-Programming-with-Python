{
 "cells": [
  {
   "cell_type": "markdown",
   "id": "be2aef18-3d45-4b7a-88f5-29df7615342e",
   "metadata": {},
   "source": [
    "**Step-by-Step Guide to the Gronsfeld Cipher**\n",
    "\n",
    "The Gronsfeld Cipher is a variant of the *Vigenère cipher* but uses *only numeric keys*, making it simpler. Each digit in the key determines how many positions to shift the corresponding letter in the plaintext.\n",
    "\n",
    "**Steps to Encrypt and Decrypt Using the Gronsfeld Cipher**\n",
    "\n",
    "1. Choose a numeric key:\n",
    "The key is a sequence of digits (e.g., 31415).\n",
    "\n",
    "2. Prepare the plaintext:\n",
    "\n",
    "Write down the message you want to encrypt, e.g., \"HELLO\".\n",
    "\n",
    "3. Repeat the key:\n",
    "\n",
    "If the key is shorter than the plaintext, repeat it to match the length of the plaintext.\n",
    "\n",
    "4. Encrypt the plaintext:\n",
    "\n",
    "For each letter in the plaintext:\n",
    "\n",
    "* Convert the letter to its position in the alphabet (A=0, B=1, ..., Z=25).\n",
    "* Add the corresponding digit from the key.\n",
    "* Wrap around using modulo 26 if the result exceeds 25.\n",
    "* Convert the result back to a letter.\n",
    "\n",
    "5. Decrypt the ciphertext:\n",
    "\n",
    "Reverse the process by subtracting the key digits instead of adding.\n",
    "\n",
    "**Practical Example: Encryption**\n",
    "\n",
    "***Inputs:***\n",
    "\n",
    "* Plaintext: HELLO\n",
    "* Key: 31415"
   ]
  },
  {
   "cell_type": "markdown",
   "id": "6fcafa73-5607-4f6d-8e8b-1f8cfd71faae",
   "metadata": {},
   "source": [
    "***Encryption Process:***\n",
    "    \n",
    "Convert the letters of the plaintext to their numeric positions:"
   ]
  },
  {
   "cell_type": "code",
   "execution_count": null,
   "id": "2e1dca3f-d4c9-4c5d-9f7b-000f3339d45f",
   "metadata": {},
   "outputs": [],
   "source": [
    "H = 7, E = 4, L = 11, L = 11, O = 14"
   ]
  },
  {
   "cell_type": "markdown",
   "id": "ad74f4eb-475b-4b3b-85c3-8efb95c52132",
   "metadata": {},
   "source": [
    "Repeat the key to match the length of the plaintext:"
   ]
  },
  {
   "cell_type": "code",
   "execution_count": null,
   "id": "f6420927-ca2d-47e9-8750-1076ffca210d",
   "metadata": {},
   "outputs": [],
   "source": [
    "Key:  31415"
   ]
  },
  {
   "cell_type": "markdown",
   "id": "d2fa223d-adc0-46b9-9fe8-f7f4c5a1b9c1",
   "metadata": {},
   "source": [
    "Add each key digit to the corresponding plaintext letter (modulo 26):"
   ]
  },
  {
   "cell_type": "code",
   "execution_count": null,
   "id": "195347de-953a-4eb2-8b31-fe4361b8a806",
   "metadata": {},
   "outputs": [],
   "source": [
    "7 + 3 = 10  → K\n",
    "4 + 1 = 5   → F\n",
    "11 + 4 = 15 → P\n",
    "11 + 1 = 12 → M\n",
    "14 + 5 = 19 → T"
   ]
  },
  {
   "cell_type": "markdown",
   "id": "7b0b7526-e966-43ea-ab06-8e65c63fd46d",
   "metadata": {},
   "source": [
    "Resulting ciphertext:"
   ]
  },
  {
   "cell_type": "code",
   "execution_count": null,
   "id": "f9507656-a548-41d8-ae44-3809657457b5",
   "metadata": {},
   "outputs": [],
   "source": [
    "Ciphertext: KFPMT"
   ]
  },
  {
   "cell_type": "markdown",
   "id": "8c1b22fa-da87-49b1-99d3-3844f1fe332b",
   "metadata": {},
   "source": [
    "**Practical Example: Decryption**\n",
    "\n",
    "***Inputs:***\n",
    "\n",
    "* Ciphertext: KFPMT\n",
    "* Key: 31415\n",
    "\n",
    "***Decryption Process:***\n",
    "\n",
    "Convert the letters of the ciphertext to their numeric positions:"
   ]
  },
  {
   "cell_type": "code",
   "execution_count": null,
   "id": "4c57c316-0023-4362-b2dd-606e4e0472f0",
   "metadata": {},
   "outputs": [],
   "source": [
    "K = 10, F = 5, P = 15, M = 12, T = 19"
   ]
  },
  {
   "cell_type": "markdown",
   "id": "82557644-54ea-4ac2-a39e-04e67cdc4dae",
   "metadata": {},
   "source": [
    "Subtract each key digit from the corresponding ciphertext letter (modulo 26):"
   ]
  },
  {
   "cell_type": "code",
   "execution_count": null,
   "id": "6088dbaa-77fb-400e-80d9-793035554c6f",
   "metadata": {},
   "outputs": [],
   "source": [
    "10 - 3 = 7   → H\n",
    "5 - 1 = 4    → E\n",
    "15 - 4 = 11  → L\n",
    "12 - 1 = 11  → L\n",
    "19 - 5 = 14  → O"
   ]
  },
  {
   "cell_type": "markdown",
   "id": "2358360b-01ff-41cd-a0db-573a87705dd0",
   "metadata": {},
   "source": [
    "Resulting plaintext:"
   ]
  },
  {
   "cell_type": "code",
   "execution_count": null,
   "id": "c782fc90-5233-44dd-95eb-d72a8cede3de",
   "metadata": {},
   "outputs": [],
   "source": [
    "Plaintext: HELLO"
   ]
  },
  {
   "cell_type": "markdown",
   "id": "fa79e9cb-997e-4233-a296-ef25ab2aa4e5",
   "metadata": {},
   "source": [
    "**Python Code**\n",
    "\n",
    "The Python code for the Gronsfeld Cipher has been implemented. It includes both encryption and decryption functions, along with an example usage."
   ]
  },
  {
   "cell_type": "code",
   "execution_count": 2,
   "id": "ab0267fe-658f-41bd-9f75-581e5818d24b",
   "metadata": {},
   "outputs": [
    {
     "name": "stdout",
     "output_type": "stream",
     "text": [
      "Plaintext: HELLO\n",
      "Key: 31415\n",
      "Ciphertext: KFPMT\n",
      "Decrypted Text: HELLO\n"
     ]
    }
   ],
   "source": [
    "def gronsfeld_encrypt(plaintext, key):\n",
    "    # Convert key to a list of integers\n",
    "    key_digits = [int(d) for d in str(key)]\n",
    "    key_length = len(key_digits)\n",
    "\n",
    "    ciphertext = \"\"\n",
    "\n",
    "    for i, char in enumerate(plaintext):\n",
    "        if char.isalpha():\n",
    "            shift = key_digits[i % key_length]\n",
    "            base = ord('A') if char.isupper() else ord('a')\n",
    "            encrypted_char = chr((ord(char) - base + shift) % 26 + base)\n",
    "            ciphertext += encrypted_char\n",
    "        else:\n",
    "            ciphertext += char  # Preserve non-alphabet characters\n",
    "\n",
    "    return ciphertext\n",
    "\n",
    "def gronsfeld_decrypt(ciphertext, key):\n",
    "    # Convert key to a list of integers\n",
    "    key_digits = [int(d) for d in str(key)]\n",
    "    key_length = len(key_digits)\n",
    "\n",
    "    plaintext = \"\"\n",
    "\n",
    "    for i, char in enumerate(ciphertext):\n",
    "        if char.isalpha():\n",
    "            shift = key_digits[i % key_length]\n",
    "            base = ord('A') if char.isupper() else ord('a')\n",
    "            decrypted_char = chr((ord(char) - base - shift) % 26 + base)\n",
    "            plaintext += decrypted_char\n",
    "        else:\n",
    "            plaintext += char  # Preserve non-alphabet characters\n",
    "\n",
    "    return plaintext\n",
    "\n",
    "# Example Usage\n",
    "plaintext = \"HELLO\"\n",
    "key = 31415\n",
    "\n",
    "ciphertext = gronsfeld_encrypt(plaintext, key)\n",
    "decrypted_text = gronsfeld_decrypt(ciphertext, key)\n",
    "\n",
    "print(\"Plaintext:\", plaintext)\n",
    "print(\"Key:\", key)\n",
    "print(\"Ciphertext:\", ciphertext)\n",
    "print(\"Decrypted Text:\", decrypted_text)"
   ]
  }
 ],
 "metadata": {
  "kernelspec": {
   "display_name": "Python 3 (ipykernel)",
   "language": "python",
   "name": "python3"
  },
  "language_info": {
   "codemirror_mode": {
    "name": "ipython",
    "version": 3
   },
   "file_extension": ".py",
   "mimetype": "text/x-python",
   "name": "python",
   "nbconvert_exporter": "python",
   "pygments_lexer": "ipython3",
   "version": "3.12.2"
  }
 },
 "nbformat": 4,
 "nbformat_minor": 5
}
