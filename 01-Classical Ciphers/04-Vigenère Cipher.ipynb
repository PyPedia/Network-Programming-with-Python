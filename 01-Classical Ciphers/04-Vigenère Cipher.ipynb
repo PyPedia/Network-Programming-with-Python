{
 "cells": [
  {
   "cell_type": "markdown",
   "id": "ad4a6cbe-87e1-4a39-8ef7-f7cbc2825f8f",
   "metadata": {},
   "source": [
    "**Vigenère Cipher: Step-by-Step Guide**\n",
    "\n",
    "The Vigenère Cipher is a *polyalphabetic substitution cipher* that *uses a keyword* to encrypt and decrypt text. It shifts each letter in the plaintext by a number of positions determined by the corresponding letter in the keyword.\n",
    "\n",
    "**Step 1: Understand the Cipher**\n",
    "\n",
    "The alphabet is indexed from 0 to 25:"
   ]
  },
  {
   "cell_type": "code",
   "execution_count": null,
   "id": "a1fe1dcb-6881-495b-9816-64c1e7ccf455",
   "metadata": {},
   "outputs": [],
   "source": [
    "A = 0, B = 1, C = 2, ..., Z = 25"
   ]
  },
  {
   "cell_type": "markdown",
   "id": "50432944-0d03-4011-9122-f61a44816b9a",
   "metadata": {},
   "source": [
    "Each letter in the plaintext is shifted by the numeric value of the corresponding letter in the keyword.\n",
    "\n",
    "**Step 2: Encryption Steps**\n",
    "\n",
    "* Choose the plaintext: The message to be encrypted.\n",
    "* Choose a keyword: A word or phrase that determines the shifts.\n",
    "* Repeat the keyword: Extend the keyword to match the length of the plaintext.\n",
    "* Shift the letters:\n",
    "    * For each letter in the plaintext, determine its shift using the corresponding letter in the keyword.\n",
    "* The formula for encryption is:\n",
    "\n",
    "$$C_{i}=(P_{i}+K_{i})\\;\\;mod \\; \\; 26$$\n",
    "\n",
    "Where:\n",
    "\n",
    "* 𝐶<sub>𝑖</sub>  is the cipher letter.\n",
    "* 𝑃<sub>𝑖</sub>  is the plaintext letter index.\n",
    "* 𝐾<sub>𝑖</sub>  is the keyword letter index.\n",
    "\n",
    "**Step 3: Decryption Steps**\n",
    "\n",
    "To decrypt, reverse the process:\n",
    "\n",
    "$$P_{i}=(C_{i}-K_{i}+26)\\;\\;mod \\; \\; 26$$\n",
    "\n",
    "**Practical Example**\n",
    "\n",
    "***Encryption***\n",
    "\n",
    "* Plaintext: HELLO\n",
    "* Keyword: KEY\n",
    "\n",
    "1.Extend the keyword: Repeat KEY to match the plaintext length:"
   ]
  },
  {
   "cell_type": "code",
   "execution_count": null,
   "id": "68ae9055-c63d-451f-a201-19d1646a3943",
   "metadata": {},
   "outputs": [],
   "source": [
    "Keyword: K E Y K E"
   ]
  },
  {
   "cell_type": "markdown",
   "id": "42ff08c2-de59-42ea-8c28-d0492b6c669c",
   "metadata": {},
   "source": [
    "Alphabet indexes:"
   ]
  },
  {
   "cell_type": "code",
   "execution_count": null,
   "id": "ad9546ee-a30a-48ec-9a9c-248dfb9fd505",
   "metadata": {},
   "outputs": [],
   "source": [
    "H = 7, E = 4, L = 11, L = 11, O = 14\n",
    "K = 10, E = 4, Y = 24, K = 10, E = 4"
   ]
  },
  {
   "cell_type": "markdown",
   "id": "01f44403-34f7-47b1-876e-212a39a88ef4",
   "metadata": {},
   "source": [
    "Apply the formula 𝐶<sub>𝑖</sub>=(𝑃<sub>𝑖</sub>+𝐾<sub>𝑖</sub>) mod 26:"
   ]
  },
  {
   "cell_type": "code",
   "execution_count": null,
   "id": "3d939c7c-0daa-48a8-a668-7ce845078d3a",
   "metadata": {},
   "outputs": [],
   "source": [
    "H (7) + K (10) = 17 -> R\n",
    "E (4) + E (4) = 8  -> I\n",
    "L (11) + Y (24) = 35 -> 9 (J)\n",
    "L (11) + K (10) = 21 -> V\n",
    "O (14) + E (4) = 18 -> S"
   ]
  },
  {
   "cell_type": "markdown",
   "id": "efe427e0-ce8c-40aa-837c-ac0bf88ea598",
   "metadata": {},
   "source": [
    "Ciphertext: RIJVS\n",
    "\n",
    "***Decryption***\n",
    "\n",
    "* Ciphertext: RIJVS\n",
    "* Keyword: KEY\n",
    "* Extended keyword: K E Y K E\n",
    "* Alphabet indexes:"
   ]
  },
  {
   "cell_type": "code",
   "execution_count": null,
   "id": "fa918c64-d965-452c-8039-19325a0969db",
   "metadata": {},
   "outputs": [],
   "source": [
    "R = 17, I = 8, J = 9, V = 21, S = 18\n",
    "K = 10, E = 4, Y = 24, K = 10, E = 4"
   ]
  },
  {
   "cell_type": "markdown",
   "id": "74eabc34-49c5-4768-87b0-5b2145b1d2a6",
   "metadata": {},
   "source": [
    "Apply the formula 𝑃<sub>𝑖</sub>=(𝐶<sub>𝑖</sub>−𝐾<sub>𝑖</sub>+26) mod 26:"
   ]
  },
  {
   "cell_type": "code",
   "execution_count": null,
   "id": "28a72c17-3804-4f77-8c88-0189f7aa632c",
   "metadata": {},
   "outputs": [],
   "source": [
    "R (17) - K (10) = 7  -> H\n",
    "I (8)  - E (4)  = 4  -> E\n",
    "J (9) - Y (24) + 26 = 11  -> L\n",
    "V (21) - K (10) = 11 -> L\n",
    "S (18) - E (4)  = 14 -> O"
   ]
  },
  {
   "cell_type": "markdown",
   "id": "c7d34757-b916-4f2b-88f2-3ae5207ed69e",
   "metadata": {},
   "source": [
    "Decrypted plaintext: HELLO\n",
    "\n",
    "**Key Points**\n",
    "\n",
    "* The keyword determines the shifts. Longer and complex keywords make the cipher stronger.\n",
    "* The Vigenère cipher is not secure against modern cryptanalysis methods like frequency analysis.\n",
    "\n",
    "**Step 4: Python Code**\n",
    "\n",
    "I've implemented the Vigenère Cipher in Python. The code includes both encryption and decryption functions, along with an example usage section."
   ]
  },
  {
   "cell_type": "code",
   "execution_count": 1,
   "id": "2816f1df-520f-4bf5-86e8-5a778b03b528",
   "metadata": {},
   "outputs": [
    {
     "name": "stdout",
     "output_type": "stream",
     "text": [
      "Plaintext: HELLO\n",
      "Keyword: KEY\n",
      "Ciphertext: RIJVS\n",
      "Decrypted text: HELLO\n"
     ]
    }
   ],
   "source": [
    "def vigenere_encrypt(plaintext, keyword):\n",
    "    \"\"\"\n",
    "    Encrypts the plaintext using the Vigenère Cipher.\n",
    "    \n",
    "    Parameters:\n",
    "    plaintext (str): The message to encrypt.\n",
    "    keyword (str): The keyword used for encryption.\n",
    "    \n",
    "    Returns:\n",
    "    str: The encrypted message.\n",
    "    \"\"\"\n",
    "    plaintext = plaintext.upper()\n",
    "    keyword = keyword.upper()\n",
    "    ciphertext = \"\"\n",
    "\n",
    "    keyword_repeated = (keyword * ((len(plaintext) // len(keyword)) + 1))[:len(plaintext)]\n",
    "\n",
    "    for p, k in zip(plaintext, keyword_repeated):\n",
    "        if p.isalpha():\n",
    "            shift = (ord(p) - ord('A') + ord(k) - ord('A')) % 26\n",
    "            ciphertext += chr(shift + ord('A'))\n",
    "        else:\n",
    "            ciphertext += p\n",
    "\n",
    "    return ciphertext\n",
    "\n",
    "def vigenere_decrypt(ciphertext, keyword):\n",
    "    \"\"\"\n",
    "    Decrypts the ciphertext using the Vigenère Cipher.\n",
    "    \n",
    "    Parameters:\n",
    "    ciphertext (str): The encrypted message to decrypt.\n",
    "    keyword (str): The keyword used for decryption.\n",
    "    \n",
    "    Returns:\n",
    "    str: The decrypted message.\n",
    "    \"\"\"\n",
    "    ciphertext = ciphertext.upper()\n",
    "    keyword = keyword.upper()\n",
    "    plaintext = \"\"\n",
    "\n",
    "    keyword_repeated = (keyword * ((len(ciphertext) // len(keyword)) + 1))[:len(ciphertext)]\n",
    "\n",
    "    for c, k in zip(ciphertext, keyword_repeated):\n",
    "        if c.isalpha():\n",
    "            shift = (ord(c) - ord('A') - (ord(k) - ord('A')) + 26) % 26\n",
    "            plaintext += chr(shift + ord('A'))\n",
    "        else:\n",
    "            plaintext += c\n",
    "\n",
    "    return plaintext\n",
    "\n",
    "# Example usage\n",
    "plaintext = \"HELLO\"\n",
    "keyword = \"KEY\"\n",
    "\n",
    "print(\"Plaintext:\", plaintext)\n",
    "print(\"Keyword:\", keyword)\n",
    "\n",
    "ciphertext = vigenere_encrypt(plaintext, keyword)\n",
    "print(\"Ciphertext:\", ciphertext)\n",
    "\n",
    "decrypted_text = vigenere_decrypt(ciphertext, keyword)\n",
    "print(\"Decrypted text:\", decrypted_text)"
   ]
  }
 ],
 "metadata": {
  "kernelspec": {
   "display_name": "Python 3 (ipykernel)",
   "language": "python",
   "name": "python3"
  },
  "language_info": {
   "codemirror_mode": {
    "name": "ipython",
    "version": 3
   },
   "file_extension": ".py",
   "mimetype": "text/x-python",
   "name": "python",
   "nbconvert_exporter": "python",
   "pygments_lexer": "ipython3",
   "version": "3.12.2"
  }
 },
 "nbformat": 4,
 "nbformat_minor": 5
}
