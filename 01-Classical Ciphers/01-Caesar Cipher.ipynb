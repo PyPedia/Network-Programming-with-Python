{
 "cells": [
  {
   "cell_type": "markdown",
   "id": "7251ee88-541b-4c31-831f-aa71584a7817",
   "metadata": {},
   "source": [
    "**Caesar Cipher: Step-by-Step Guide**\n",
    "\n",
    "The Caesar Cipher is one of the *simplest* and most* widely known* encryption techniques. It shifts each letter in the plaintext by a fixed number of places down the alphabet. Let’s go step by step:\n",
    "\n",
    "**Step 1: Understand the Concept**\n",
    "\n",
    "* *Encryption:* Each letter in the plaintext is shifted by a fixed number (key). For example, with a shift of 3, A becomes D, B becomes E, and so on.\n",
    "* *Decryption:* Reverse the process by shifting letters back by the same key.\n",
    "\n",
    "**Step 2: Choose the Key**\n",
    "\n",
    "The key is the number of positions each letter is shifted. For instance, a key of 3 means each letter in the plaintext will move three steps forward.\n",
    "\n",
    "**Step 3: Define the Alphabet**\n",
    "\n",
    "The standard alphabet is used:"
   ]
  },
  {
   "cell_type": "code",
   "execution_count": null,
   "id": "f0dfb1f9-663b-4450-8d75-31db0a559407",
   "metadata": {},
   "outputs": [],
   "source": [
    "ABCDEFGHIJKLMNOPQRSTUVWXYZ"
   ]
  },
  {
   "cell_type": "markdown",
   "id": "dba53ea5-0608-4a40-abdd-fd785ea58f85",
   "metadata": {},
   "source": [
    "If you encounter lowercase letters, treat them similarly:"
   ]
  },
  {
   "cell_type": "code",
   "execution_count": null,
   "id": "4b887990-4e63-4911-9c56-407bde6e9cb0",
   "metadata": {},
   "outputs": [],
   "source": [
    "abcdefghijklmnopqrstuvwxyz"
   ]
  },
  {
   "cell_type": "markdown",
   "id": "9fa58053-6228-41ab-971c-9dc4903843ab",
   "metadata": {},
   "source": [
    "**Step 4: Encryption Formula**\n",
    "    \n",
    "Use the formula:\n",
    "\n",
    "$$C_{i}=(P_{i}+K)\\;\\;mod\\;\\;26$$\n",
    "\n",
    "Where:\n",
    "\n",
    "* 𝐶𝑖: Ciphertext letter (encrypted letter)\n",
    "* 𝑃𝑖: Plaintext letter (original letter)\n",
    "* 𝐾: Key (shift value)\n",
    "* 26: Total letters in the English alphabet\n",
    "\n",
    "**Step 5: Decryption Formula**\n",
    "\n",
    "Reverse the encryption formula:\n",
    "\n",
    "$$C_{i}=(P_{i}-K)\\;\\;mod\\;\\;26$$\n",
    "\n",
    "**Step 6: Practical Example**\n",
    "\n",
    "* Plaintext: \"HELLO\"\n",
    "* Key: 3\n",
    "\n",
    "***Step 6.1: Encryption***\n",
    "\n",
    "Take each letter and shift it by 3:\n",
    "* H → K\n",
    "* E → H\n",
    "* L → O\n",
    "* L → O\n",
    "* O → R\n",
    "\n",
    "Ciphertext: \"KHOOR\"\n",
    "\n",
    "***Step 6.2: Decryption***\n",
    "\n",
    "Take each letter in the ciphertext and shift it back by 3:\n",
    "* K → H\n",
    "* H → E\n",
    "* O → L\n",
    "* O → L\n",
    "* R → O\n",
    "\n",
    "Decrypted Text: \"HELLO\"\n",
    "\n",
    "**Step 7: Implementation in Python**"
   ]
  },
  {
   "cell_type": "code",
   "execution_count": 2,
   "id": "8986e917-7cd7-488f-8c32-60ec4b7da7a4",
   "metadata": {},
   "outputs": [
    {
     "name": "stdout",
     "output_type": "stream",
     "text": [
      "Encrypted: KHOOR\n",
      "Decrypted: HELLO\n"
     ]
    }
   ],
   "source": [
    "def caesar_cipher_encrypt(plaintext, key):\n",
    "    result = \"\"\n",
    "    for char in plaintext:\n",
    "        if char.isalpha():\n",
    "            # Handle uppercase and lowercase separately\n",
    "            start = ord('A') if char.isupper() else ord('a')\n",
    "            result += chr((ord(char) - start + key) % 26 + start)\n",
    "        else:\n",
    "            result += char  # Non-alphabetic characters remain unchanged\n",
    "    return result\n",
    "\n",
    "def caesar_cipher_decrypt(ciphertext, key):\n",
    "    return caesar_cipher_encrypt(ciphertext, -key)  # Reverse the process\n",
    "\n",
    "# Example usage\n",
    "plaintext = \"HELLO\"\n",
    "key = 3\n",
    "\n",
    "encrypted_text = caesar_cipher_encrypt(plaintext, key)\n",
    "print(\"Encrypted:\", encrypted_text)\n",
    "\n",
    "decrypted_text = caesar_cipher_decrypt(encrypted_text, key)\n",
    "print(\"Decrypted:\", decrypted_text)\n"
   ]
  }
 ],
 "metadata": {
  "kernelspec": {
   "display_name": "Python 3 (ipykernel)",
   "language": "python",
   "name": "python3"
  },
  "language_info": {
   "codemirror_mode": {
    "name": "ipython",
    "version": 3
   },
   "file_extension": ".py",
   "mimetype": "text/x-python",
   "name": "python",
   "nbconvert_exporter": "python",
   "pygments_lexer": "ipython3",
   "version": "3.12.2"
  }
 },
 "nbformat": 4,
 "nbformat_minor": 5
}
