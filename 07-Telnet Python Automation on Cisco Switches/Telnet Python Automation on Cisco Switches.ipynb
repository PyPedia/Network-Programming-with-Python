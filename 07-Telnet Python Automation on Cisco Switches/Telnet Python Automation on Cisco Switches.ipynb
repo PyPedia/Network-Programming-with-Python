{
 "cells": [
  {
   "cell_type": "markdown",
   "id": "483f3441-64ae-4e5e-9245-350796be6fed",
   "metadata": {},
   "source": [
    "To telnet to a Cisco switch automatically with Python and change its hostname, follow these step-by-step instructions:\n",
    "\n",
    "**1. Set Up the Environment**\n",
    "\n",
    "* *Ensure Python is installed:* Use Python 3.x and install it if necessary.\n",
    "* *Install required library:* Use the telnetlib library for Telnet communication. It comes pre-installed with Python, so no extra installation is needed.\n",
    "\n",
    "**2. Configure the Network**\n",
    "\n",
    "* Assign IP addresses to the switch and PC based on the topology:\n",
    "    * PC1: 192.168.202.11/24\n",
    "    * Switch (IOU1): Configure an IP for its interface (192.168.202.1/24).\n",
    "* Ensure connectivity between the devices using the ping command.\n",
    "\n",
    "**3. Enable Telnet on the Cisco Switch**\n",
    "\n",
    "On the Cisco switch (IOU1), configure the following via the console:"
   ]
  },
  {
   "cell_type": "code",
   "execution_count": null,
   "id": "0e4c172b-74ab-4d90-845a-26b50d14403d",
   "metadata": {},
   "outputs": [],
   "source": [
    "IOU1#configure terminal\n",
    "IOU1(config)#interface vlan 1\n",
    "IOU1(config-if)#ip address 192.168.202.1 255.255.255.0\n",
    "IOU1(config-if)#no shut\n",
    "IOU1(config-if)#exit\n",
    "IOU1(config)#line vty 0 4\n",
    "IOU1(config-line)#password cisco\n",
    "IOU1(config-line)#exit\n",
    "IOU1(config)#enable password cisco\n",
    "IOU1(config)#exit\n",
    "IOU1#write memory"
   ]
  },
  {
   "cell_type": "markdown",
   "id": "df16f644-b570-4400-bb8c-fd2f920df3d7",
   "metadata": {},
   "source": [
    "**4. Connectivity Test**\n",
    "\n",
    "Ensure connectivity between the devices using the ping command."
   ]
  },
  {
   "cell_type": "code",
   "execution_count": null,
   "id": "60f9624c-2771-48f0-ab89-0633b2468aa0",
   "metadata": {},
   "outputs": [],
   "source": [
    "PC1> show ip\n",
    "\n",
    "NAME        : PC1[1]\n",
    "IP/MASK     : 192.168.202.11/24\n",
    "GATEWAY     : 192.168.202.1\n",
    "DNS         :\n",
    "MAC         : 00:50:79:66:68:00\n",
    "LPORT       : 20008\n",
    "RHOST:PORT  : 127.0.0.1:20009\n",
    "MTU         : 1500\n",
    "\n",
    "PC1> ping 192.168.202.1\n",
    "\n",
    "84 bytes from 192.168.202.1 icmp_seq=1 ttl=255 time=0.352 ms\n",
    "84 bytes from 192.168.202.1 icmp_seq=2 ttl=255 time=1.026 ms\n",
    "84 bytes from 192.168.202.1 icmp_seq=3 ttl=255 time=0.971 ms\n",
    "84 bytes from 192.168.202.1 icmp_seq=4 ttl=255 time=1.074 ms\n",
    "84 bytes from 192.168.202.1 icmp_seq=5 ttl=255 time=0.477 ms\n",
    "^C\n",
    "PC1> ping 192.168.202.10\n",
    "\n",
    "84 bytes from 192.168.202.10 icmp_seq=1 ttl=128 time=0.743 ms\n",
    "84 bytes from 192.168.202.10 icmp_seq=2 ttl=128 time=1.694 ms\n",
    "84 bytes from 192.168.202.10 icmp_seq=3 ttl=128 time=0.753 ms\n",
    "84 bytes from 192.168.202.10 icmp_seq=4 ttl=128 time=2.092 ms\n",
    "PC1>"
   ]
  },
  {
   "cell_type": "markdown",
   "id": "5b64db67-b10e-44db-aa39-0c4231070057",
   "metadata": {},
   "source": [
    "**5. Python Script for Telnet**\n",
    "\n",
    "The following Python script connects to the Cisco switch, logs in, and changes the hostname:"
   ]
  },
  {
   "cell_type": "code",
   "execution_count": 1,
   "id": "b136a2cf-1a73-44a8-872f-a581cfb284d0",
   "metadata": {},
   "outputs": [
    {
     "name": "stderr",
     "output_type": "stream",
     "text": [
      "C:\\Users\\yas\\AppData\\Local\\Temp\\ipykernel_5388\\358185870.py:1: DeprecationWarning: 'telnetlib' is deprecated and slated for removal in Python 3.13\n",
      "  import telnetlib\n"
     ]
    },
    {
     "name": "stdout",
     "output_type": "stream",
     "text": [
      "\n",
      "IOU1>enable\n",
      "Password: \n",
      "IOU1#configure terminal\n",
      "Enter configuration commands, one per line.  End with CNTL/Z.\n",
      "IOU1(config)#hostname NewSwitchName\n",
      "NewSwitchName(config)#end\n",
      "NewSwitchName#write memory\n",
      "Building configuration...\n",
      "Compressed configuration from 1413 bytes to 858 bytes[OK]\n",
      "NewSwitchName#exit\n",
      "\n"
     ]
    }
   ],
   "source": [
    "import telnetlib\n",
    "import time\n",
    "\n",
    "# Telnet connection details\n",
    "HOST = \"192.168.202.1\"  # Switch IP\n",
    "USER = \"cisco\"          # Telnet username\n",
    "PASSWORD = \"cisco\"      # Telnet password\n",
    "\n",
    "try:\n",
    "    # Establish Telnet connection\n",
    "    tn = telnetlib.Telnet(HOST)\n",
    "\n",
    "    # Wait for login prompt and send username\n",
    "    tn.read_until(b\"Password: \")\n",
    "    tn.write(PASSWORD.encode('ascii') + b\"\\n\")\n",
    "\n",
    "    # Enter enable mode\n",
    "    tn.write(b\"enable\\n\")\n",
    "    tn.write(b\"cisco\\n\")  # Enable password\n",
    "\n",
    "    # Go to configuration mode\n",
    "    tn.write(b\"configure terminal\\n\")\n",
    "\n",
    "    # Change the hostname\n",
    "    tn.write(b\"hostname NewSwitchName\\n\")\n",
    "\n",
    "    # Exit configuration mode and save changes\n",
    "    tn.write(b\"end\\n\")\n",
    "    tn.write(b\"write memory\\n\")\n",
    "\n",
    "    # Close Telnet session\n",
    "    tn.write(b\"exit\\n\")\n",
    "\n",
    "    print(tn.read_all().decode('ascii'))\n",
    "\n",
    "except Exception as e:\n",
    "    print(f\"An error occurred: {e}\")"
   ]
  }
 ],
 "metadata": {
  "kernelspec": {
   "display_name": "Python 3 (ipykernel)",
   "language": "python",
   "name": "python3"
  },
  "language_info": {
   "codemirror_mode": {
    "name": "ipython",
    "version": 3
   },
   "file_extension": ".py",
   "mimetype": "text/x-python",
   "name": "python",
   "nbconvert_exporter": "python",
   "pygments_lexer": "ipython3",
   "version": "3.12.2"
  }
 },
 "nbformat": 4,
 "nbformat_minor": 5
}
