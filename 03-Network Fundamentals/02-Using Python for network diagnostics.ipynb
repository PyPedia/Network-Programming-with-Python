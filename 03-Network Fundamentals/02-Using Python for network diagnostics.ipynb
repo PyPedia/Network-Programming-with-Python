{
 "cells": [
  {
   "cell_type": "markdown",
   "id": "c0776e42-eea3-4ee9-85fc-e377074d6ba6",
   "metadata": {},
   "source": [
    "To use Python for network diagnostics like ping and traceroute, we can make use of built-in and external Python libraries. I'll guide you through the process step by step.\n",
    "\n",
    "**1. Setting Up Your Environment**\n",
    "\n",
    "First, ensure you have Python installed on your system. You will also need to install external libraries like ping3 and scapy for network diagnostics.\n",
    "\n",
    "To install the necessary libraries, use pip:"
   ]
  },
  {
   "cell_type": "code",
   "execution_count": null,
   "id": "4bc7d79b-4047-43ad-8883-d1ab1f9694e1",
   "metadata": {},
   "outputs": [],
   "source": [
    "pip install ping3 scapy"
   ]
  },
  {
   "cell_type": "markdown",
   "id": "b8ab97c9-8b3f-42dd-a1b2-b36c854b742e",
   "metadata": {},
   "source": [
    "**2. Using Python for Ping**\n",
    "\n",
    "The ping3 library is a lightweight tool for performing a \"ping\" to check the availability of a host.\n",
    "\n",
    "Step 1: Import the required library"
   ]
  },
  {
   "cell_type": "code",
   "execution_count": 1,
   "id": "f7c81c15-0111-41f0-a574-138097d79e4f",
   "metadata": {},
   "outputs": [],
   "source": [
    "from ping3 import ping, verbose_ping"
   ]
  },
  {
   "cell_type": "markdown",
   "id": "bc6b4b37-7434-43b6-9d69-6859ab9d084f",
   "metadata": {},
   "source": [
    "Step 2: Ping a server (e.g., Google's DNS server)"
   ]
  },
  {
   "cell_type": "code",
   "execution_count": 2,
   "id": "c165b645-c8f3-4188-a0bd-e52401680157",
   "metadata": {},
   "outputs": [
    {
     "name": "stdout",
     "output_type": "stream",
     "text": [
      "Ping response time: 0.14790630340576172 seconds\n"
     ]
    }
   ],
   "source": [
    "# Ping a host (IP or domain)\n",
    "response = ping('8.8.8.8')\n",
    "print(f\"Ping response time: {response} seconds\")"
   ]
  },
  {
   "cell_type": "markdown",
   "id": "5732443c-861c-4845-a4d1-81addf480345",
   "metadata": {},
   "source": [
    "* ping('8.8.8.8'): Pings Google's DNS server at IP 8.8.8.8.\n",
    "* The result will be the time in seconds it took for the packet to reach the server and come back.\n",
    "\n",
    "**Step 3: Verbose Ping (optional)**\n",
    "\n",
    "To ping the host multiple times and display more information:"
   ]
  },
  {
   "cell_type": "code",
   "execution_count": 3,
   "id": "8c02c729-d67b-4311-810a-83c6513cdcc7",
   "metadata": {},
   "outputs": [
    {
     "name": "stdout",
     "output_type": "stream",
     "text": [
      "ping '8.8.8.8' ... 152ms\n",
      "ping '8.8.8.8' ... 157ms\n",
      "ping '8.8.8.8' ... 158ms\n",
      "ping '8.8.8.8' ... 159ms\n"
     ]
    }
   ],
   "source": [
    "verbose_ping('8.8.8.8', count=4)  # Ping 4 times with verbose output"
   ]
  },
  {
   "cell_type": "markdown",
   "id": "ff5915c6-a697-4edc-b110-8fc614a0e03c",
   "metadata": {},
   "source": [
    "**Step 4: Error handling (optional)**\n",
    "\n",
    "You can add error handling to manage exceptions if the network is unreachable."
   ]
  },
  {
   "cell_type": "code",
   "execution_count": 5,
   "id": "e054e1d9-07e2-43eb-84f0-551229bf730f",
   "metadata": {},
   "outputs": [
    {
     "name": "stdout",
     "output_type": "stream",
     "text": [
      "Ping response time: 0.14590811729431152 seconds\n"
     ]
    }
   ],
   "source": [
    "try:\n",
    "    response = ping('8.8.8.8')\n",
    "    if response is None:\n",
    "        print(\"Host is unreachable.\")\n",
    "    else:\n",
    "        print(f\"Ping response time: {response} seconds\")\n",
    "except Exception as e:\n",
    "    print(f\"Error: {e}\")"
   ]
  },
  {
   "cell_type": "markdown",
   "id": "61906e0f-8c0d-4489-85af-c873664078e6",
   "metadata": {},
   "source": [
    "**3. Using Python for Traceroute**\n",
    "\n",
    "For traceroute, we can use the *scapy* library to implement a simple version of it. *Traceroute* is used to trace the path packets take to reach a destination.\n",
    "\n",
    "Step 1: Import the necessary library"
   ]
  },
  {
   "cell_type": "code",
   "execution_count": 6,
   "id": "2d5a7acc-9d7e-456f-ba64-1edcede4c95a",
   "metadata": {},
   "outputs": [],
   "source": [
    "from scapy.all import traceroute"
   ]
  },
  {
   "cell_type": "markdown",
   "id": "e111b20c-02ae-4c2c-9813-818c33f0a798",
   "metadata": {},
   "source": [
    "Step 2: Run a traceroute"
   ]
  },
  {
   "cell_type": "code",
   "execution_count": 7,
   "id": "f638da49-e9d4-44c1-837e-4ec06caa84f6",
   "metadata": {},
   "outputs": [
    {
     "name": "stdout",
     "output_type": "stream",
     "text": [
      "\n",
      "Received 49 packets, got 26 answers, remaining 4 packets\n",
      "   216.239.38.120:tcp80 \n",
      "1  192.168.1.1     11   \n",
      "3  10.176.211.65   11   \n",
      "6  10.196.212.65   11   \n",
      "8  216.239.38.120  SA   \n",
      "9  216.239.38.120  SA   \n",
      "10 216.239.38.120  SA   \n",
      "11 216.239.38.120  SA   \n",
      "12 216.239.38.120  SA   \n",
      "13 216.239.38.120  SA   \n",
      "14 216.239.38.120  SA   \n",
      "15 216.239.38.120  SA   \n",
      "16 216.239.38.120  SA   \n",
      "17 216.239.38.120  SA   \n",
      "18 216.239.38.120  SA   \n",
      "19 216.239.38.120  SA   \n",
      "20 216.239.38.120  SA   \n",
      "21 216.239.38.120  SA   \n",
      "22 216.239.38.120  SA   \n",
      "23 216.239.38.120  SA   \n",
      "24 216.239.38.120  SA   \n",
      "25 216.239.38.120  SA   \n",
      "26 216.239.38.120  SA   \n",
      "27 216.239.38.120  SA   \n",
      "28 216.239.38.120  SA   \n",
      "29 216.239.38.120  SA   \n",
      "30 216.239.38.120  SA   \n"
     ]
    }
   ],
   "source": [
    "# Perform a traceroute\n",
    "result, _ = traceroute(['www.google.com'], verbose=True)"
   ]
  },
  {
   "cell_type": "markdown",
   "id": "fef82b71-d7d1-4c81-9479-d18d6130a453",
   "metadata": {},
   "source": [
    "* traceroute(): It sends packets with incremented TTL values to trace the route taken by packets to reach the destination.\n",
    "\n",
    "**Step 3: Display Results**\n",
    "\n",
    "The result will show each hop the packet takes to reach the destination."
   ]
  },
  {
   "cell_type": "markdown",
   "id": "52f07577-ca1b-4db0-be9e-4d8c466db479",
   "metadata": {},
   "source": [
    "**4. Complete Example: Combining Ping and Traceroute**\n",
    "    \n",
    "You can combine both functions (Ping and Traceroute) into a single script for better network diagnostics."
   ]
  },
  {
   "cell_type": "code",
   "execution_count": 8,
   "id": "5705853c-082b-4259-9081-c36ab7cdbc4e",
   "metadata": {},
   "outputs": [
    {
     "name": "stdout",
     "output_type": "stream",
     "text": [
      "Starting Ping Test:\n",
      "Ping response time: 0.158250093460083 seconds\n",
      "\n",
      "Starting Traceroute Test:\n",
      "\n",
      "Received 50 packets, got 27 answers, remaining 3 packets\n",
      "   216.239.38.120:tcp80 \n",
      "1  192.168.1.1     11   \n",
      "3  10.176.211.65   11   \n",
      "6  216.239.38.120  SA   \n",
      "7  216.239.38.120  SA   \n",
      "8  10.136.131.142  11   \n",
      "9  216.239.38.120  SA   \n",
      "10 216.239.38.120  SA   \n",
      "11 216.239.38.120  SA   \n",
      "12 213.202.5.200   11   \n",
      "13 216.239.38.120  SA   \n",
      "14 216.239.38.120  SA   \n",
      "15 216.239.38.120  SA   \n",
      "16 216.239.38.120  SA   \n",
      "17 216.239.38.120  SA   \n",
      "18 216.239.38.120  SA   \n",
      "19 216.239.38.120  SA   \n",
      "20 216.239.38.120  SA   \n",
      "21 216.239.38.120  SA   \n",
      "22 216.239.38.120  SA   \n",
      "23 216.239.38.120  SA   \n",
      "24 216.239.38.120  SA   \n",
      "25 216.239.38.120  SA   \n",
      "26 216.239.38.120  SA   \n",
      "27 216.239.38.120  SA   \n",
      "28 216.239.38.120  SA   \n",
      "29 216.239.38.120  SA   \n",
      "30 216.239.38.120  SA   \n"
     ]
    }
   ],
   "source": [
    "from ping3 import ping, verbose_ping\n",
    "from scapy.all import traceroute\n",
    "\n",
    "def network_diagnostics():\n",
    "    # Ping Test\n",
    "    print(\"Starting Ping Test:\")\n",
    "    ping_result = ping('8.8.8.8')\n",
    "    if ping_result is None:\n",
    "        print(\"Host is unreachable.\")\n",
    "    else:\n",
    "        print(f\"Ping response time: {ping_result} seconds\")\n",
    "    \n",
    "    print(\"\\nStarting Traceroute Test:\")\n",
    "    result, _ = traceroute(['www.google.com'], verbose=True)\n",
    "\n",
    "if __name__ == '__main__':\n",
    "    network_diagnostics()"
   ]
  },
  {
   "cell_type": "markdown",
   "id": "8645c9af-f6e8-48df-9d76-7c06d2052e94",
   "metadata": {},
   "source": [
    "**5. Advanced Usage: Customizing Ping and Traceroute**\n",
    "    \n",
    "You can also customize the behavior of ping and traceroute:\n",
    "\n",
    "* Ping timeout: By default, the ping3 library uses a timeout of 1 second. You can change this using ping('host', timeout=2) for a 2-second timeout.\n",
    "* Traceroute max hops: The scapy library's traceroute function has a max_hops parameter that you can adjust."
   ]
  },
  {
   "cell_type": "code",
   "execution_count": 9,
   "id": "dbecf12a-d880-477a-bcaa-5e0f44f37400",
   "metadata": {},
   "outputs": [
    {
     "name": "stdout",
     "output_type": "stream",
     "text": [
      "\n",
      "Received 29 packets, got 16 answers, remaining 4 packets\n",
      "   216.239.38.120:tcp80 \n",
      "1  192.168.1.1     11   \n",
      "3  10.176.211.65   11   \n",
      "6  216.239.38.120  SA   \n",
      "8  216.239.38.120  SA   \n",
      "9  216.239.38.120  SA   \n",
      "10 216.239.38.120  SA   \n",
      "11 216.239.38.120  SA   \n",
      "12 216.239.38.120  SA   \n",
      "13 216.239.38.120  SA   \n",
      "14 216.239.38.120  SA   \n",
      "15 172.253.79.255  11   \n",
      "16 216.239.38.120  SA   \n",
      "17 216.239.38.120  SA   \n",
      "18 216.239.38.120  SA   \n",
      "19 216.239.38.120  SA   \n",
      "20 216.239.38.120  SA   \n"
     ]
    }
   ],
   "source": [
    "result, _ = traceroute(['www.google.com'], verbose=True, maxttl=20)"
   ]
  },
  {
   "cell_type": "markdown",
   "id": "3abc07e6-878d-49bf-86d3-bd4afae74ab4",
   "metadata": {},
   "source": [
    "**6. Error Handling and Troubleshooting**\n",
    "\n",
    "For robust code, it's good practice to handle possible exceptions and errors:\n",
    "\n",
    "* Ping errors: Ensure the host is reachable before pinging.\n",
    "* Traceroute errors: Handle issues if scapy cannot perform the traceroute due to permissions or network issues."
   ]
  },
  {
   "cell_type": "code",
   "execution_count": 10,
   "id": "0f5c9b59-1a05-429c-ac53-577a35b76a2b",
   "metadata": {},
   "outputs": [
    {
     "name": "stdout",
     "output_type": "stream",
     "text": [
      "Ping response time: 0.14890623092651367 seconds\n",
      "\n",
      "Received 51 packets, got 27 answers, remaining 3 packets\n",
      "   216.239.38.120:tcp80 \n",
      "1  192.168.1.1     11   \n",
      "3  10.176.211.65   11   \n",
      "6  216.239.38.120  SA   \n",
      "7  216.239.38.120  SA   \n",
      "8  10.136.131.142  11   \n",
      "9  216.239.38.120  SA   \n",
      "10 216.239.38.120  SA   \n",
      "11 216.239.38.120  SA   \n",
      "12 216.239.38.120  SA   \n",
      "13 216.239.38.120  SA   \n",
      "14 216.239.38.120  SA   \n",
      "15 216.239.38.120  SA   \n",
      "16 216.239.38.120  SA   \n",
      "17 216.239.38.120  SA   \n",
      "18 216.239.38.120  SA   \n",
      "19 216.239.38.120  SA   \n",
      "20 216.239.38.120  SA   \n",
      "21 216.239.38.120  SA   \n",
      "22 216.239.38.120  SA   \n",
      "23 216.239.38.120  SA   \n",
      "24 216.239.38.120  SA   \n",
      "25 216.239.38.120  SA   \n",
      "26 216.239.38.120  SA   \n",
      "27 216.239.38.120  SA   \n",
      "28 216.239.38.120  SA   \n",
      "29 216.239.38.120  SA   \n",
      "30 216.239.38.120  SA   \n"
     ]
    }
   ],
   "source": [
    "try:\n",
    "    ping_result = ping('8.8.8.8')\n",
    "    if ping_result is None:\n",
    "        print(\"Host is unreachable.\")\n",
    "    else:\n",
    "        print(f\"Ping response time: {ping_result} seconds\")\n",
    "except Exception as e:\n",
    "    print(f\"Ping Error: {e}\")\n",
    "\n",
    "try:\n",
    "    result, _ = traceroute(['www.google.com'], verbose=True)\n",
    "except Exception as e:\n",
    "    print(f\"Traceroute Error: {e}\")"
   ]
  },
  {
   "cell_type": "markdown",
   "id": "99b9c6ce-0b10-42e1-9f1b-f532eae490b5",
   "metadata": {},
   "source": [
    "**Conclusion**\n",
    "\n",
    "By using Python libraries like ping3 and scapy, you can easily perform network diagnostics like ping and traceroute. This helps you monitor and troubleshoot network issues effectively."
   ]
  }
 ],
 "metadata": {
  "kernelspec": {
   "display_name": "Python 3 (ipykernel)",
   "language": "python",
   "name": "python3"
  },
  "language_info": {
   "codemirror_mode": {
    "name": "ipython",
    "version": 3
   },
   "file_extension": ".py",
   "mimetype": "text/x-python",
   "name": "python",
   "nbconvert_exporter": "python",
   "pygments_lexer": "ipython3",
   "version": "3.12.2"
  }
 },
 "nbformat": 4,
 "nbformat_minor": 5
}
