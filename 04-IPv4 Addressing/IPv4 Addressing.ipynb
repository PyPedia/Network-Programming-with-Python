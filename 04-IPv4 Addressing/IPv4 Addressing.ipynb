{
 "cells": [
  {
   "cell_type": "markdown",
   "id": "a4344e33-325a-4538-8ff0-85a072cbaded",
   "metadata": {},
   "source": [
    "**Step 1: Understanding IPv4 Address Structure**\n",
    "\n",
    "An IPv4 address is a *32-bit number* used to uniquely identify devices on a network. It is usually written in *dotted decimal notation*, which consists of four octets (or bytes), each containing 8 bits. These octets are separated by dots (.).\n",
    "* Each octet (byte) can range from 0 to 255, which means each octet has 8 bits and can represent values from 00000000 to 11111111 in binary, i.e., 0 to 255 in decimal.\n",
    "* The IPv4 address looks like this: xxx.xxx.xxx.xxx, where each xxx is a decimal number from 0 to 255.\n",
    "\n",
    "For example:"
   ]
  },
  {
   "cell_type": "code",
   "execution_count": null,
   "id": "2278965c-21ce-474b-827b-a92bf29508c1",
   "metadata": {},
   "outputs": [],
   "source": [
    "192.168.1.1"
   ]
  },
  {
   "cell_type": "markdown",
   "id": "3a0033f1-3ad6-450c-aa75-54214399f20a",
   "metadata": {},
   "source": [
    "This is an IPv4 address where:\n",
    "\n",
    "* 192 is the first octet\n",
    "* 168 is the second octet\n",
    "* 1 is the third octet\n",
    "* 1 is the fourth octet\n",
    "\n",
    "Each of these decimal numbers corresponds to an 8-bit binary number.\n",
    "\n",
    "**Step 2: Binary Representation of an IPv4 Address**\n",
    "\n",
    "IPv4 addresses are ultimately represented as a 32-bit binary number. For instance, let's take the example address 192.168.1.1 and convert it to binary:\n",
    "\n",
    "* 192 in decimal is 11000000 in binary\n",
    "* 168 in decimal is 10101000 in binary\n",
    "* 1 in decimal is 00000001 in binary\n",
    "* 1 in decimal is 00000001 in binary\n",
    "\n",
    "So, the full binary representation of 192.168.1.1 is:"
   ]
  },
  {
   "cell_type": "code",
   "execution_count": null,
   "id": "922c9f44-f5f3-4123-9966-ed9b261b6f0d",
   "metadata": {},
   "outputs": [],
   "source": [
    "11000000.10101000.00000001.00000001"
   ]
  },
  {
   "cell_type": "markdown",
   "id": "e03be250-5293-4655-bade-3a9451a91b76",
   "metadata": {},
   "source": [
    "**Step 3: Understanding Subnetting**\n",
    "\n",
    "*What is Subnetting?*\n",
    "\n",
    "Subnetting divides an IP address into two parts:\n",
    "\n",
    "* Network portion: Identifies the network the device belongs to.\n",
    "* Host portion: Identifies the specific device within that network.\n",
    "\n",
    "To determine the network and host portions, we use the subnet mask.\n",
    "\n",
    "**Subnet Mask**\n",
    "\n",
    "A subnet mask is also a 32-bit number that uses 1s to represent the network portion and 0s to represent the host portion.\n",
    "\n",
    "For example:\n",
    "\n",
    "* A common subnet mask is 255.255.255.0.\n",
    "\n",
    "In binary, it looks like:"
   ]
  },
  {
   "cell_type": "code",
   "execution_count": null,
   "id": "baf5014a-9c3b-49fa-a2fc-d5fd86a14db0",
   "metadata": {},
   "outputs": [],
   "source": [
    "11111111.11111111.11111111.00000000"
   ]
  },
  {
   "cell_type": "markdown",
   "id": "50edd54e-fb6e-4dba-a033-a2558190d862",
   "metadata": {},
   "source": [
    "**Step 4: Network Address Calculation**\n",
    "    \n",
    "To calculate the network address for an IPv4 address with a subnet mask, we perform a bitwise AND between the IP address and the subnet mask.\n",
    "\n",
    "Let's do an example:\n",
    "\n",
    "* IP Address: 192.168.1.10 (in binary: 11000000.10101000.00000001.00001010)\n",
    "* Subnet Mask: 255.255.255.0 (in binary: 11111111.11111111.11111111.00000000)\n",
    "\n",
    "Performing the bitwise AND operation:"
   ]
  },
  {
   "cell_type": "code",
   "execution_count": null,
   "id": "84b37a8e-cd49-4641-a8ee-3ff7a9bd8fee",
   "metadata": {},
   "outputs": [],
   "source": [
    "IP Address:    11000000.10101000.00000001.00001010\n",
    "Subnet Mask:   11111111.11111111.11111111.00000000\n",
    "-----------------------------------------------\n",
    "Network:       11000000.10101000.00000001.00000000"
   ]
  },
  {
   "cell_type": "markdown",
   "id": "69b82663-b8a8-41e4-81b9-6a6ef53f220d",
   "metadata": {},
   "source": [
    "The network address is:"
   ]
  },
  {
   "cell_type": "code",
   "execution_count": null,
   "id": "cff8b5da-0a36-45b9-9108-d9c303334b4d",
   "metadata": {},
   "outputs": [],
   "source": [
    "192.168.1.0"
   ]
  },
  {
   "cell_type": "markdown",
   "id": "74b9455e-5cf8-4459-92d3-1caddccf15d2",
   "metadata": {},
   "source": [
    "**Step 5: Broadcast Address Calculation**\n",
    "\n",
    "The broadcast address is used to send data to all devices in a network. It is calculated by performing a bitwise OR between the network address and the inverse of the subnet mask.\n",
    "\n",
    "Let’s calculate the broadcast address for the example:\n",
    "\n",
    "* Network Address: 192.168.1.0 (in binary: 11000000.10101000.00000001.00000000)\n",
    "* Inverse of Subnet Mask: 0.0.0.255 (in binary: 00000000.00000000.00000000.11111111)\n",
    "\n",
    "Performing the bitwise OR operation:"
   ]
  },
  {
   "cell_type": "code",
   "execution_count": null,
   "id": "68204762-5495-49c6-bdd9-9e38b664b12b",
   "metadata": {},
   "outputs": [],
   "source": [
    "Network Address: 11000000.10101000.00000001.00000000\n",
    "Inverse Mask:    00000000.00000000.00000000.11111111\n",
    "-----------------------------------------------\n",
    "Broadcast:       11000000.10101000.00000001.11111111"
   ]
  },
  {
   "cell_type": "markdown",
   "id": "73f6a117-77f1-416d-830a-b59f96043798",
   "metadata": {},
   "source": [
    "The broadcast address is:"
   ]
  },
  {
   "cell_type": "code",
   "execution_count": null,
   "id": "49f82056-597b-418f-84b0-c484fed53a2f",
   "metadata": {},
   "outputs": [],
   "source": [
    "192.168.1.255"
   ]
  },
  {
   "cell_type": "markdown",
   "id": "7a2d8fd9-9648-4526-a5ce-370254caa78c",
   "metadata": {},
   "source": [
    "**Step 6: Usable IP Range**\n",
    "\n",
    "The usable IP range refers to the IP addresses between the network address and the broadcast address. These are the addresses that can be assigned to devices (hosts) within the network.\n",
    "\n",
    "For the network 192.168.1.0/24, the usable IP range is from 192.168.1.1 to 192.168.1.254.\n",
    "\n",
    "**Step 7: CIDR Notation**\n",
    "\n",
    "CIDR (Classless Inter-Domain Routing) is a shorthand way of representing IP addresses and their associated subnet masks. Instead of writing the full subnet mask (e.g., 255.255.255.0), CIDR notation uses a slash (/) followed by the number of 1 bits in the subnet mask.\n",
    "\n",
    "For example:\n",
    "\n",
    "* 192.168.1.0/24 means that the first 24 bits are used for the network portion, equivalent to the subnet mask 255.255.255.0.\n",
    "* 192.168.1.0/26 means that the first 26 bits are used for the network portion, with a subnet mask of 255.255.255.192.\n",
    "\n",
    "**Python Code**\n",
    "\n",
    "Here's a Python code that will take an IP address and subnet mask as input from the user, and then compute the network IP, broadcast IP, subnet mask, first usable IP, last usable IP, and the total number of hosts."
   ]
  },
  {
   "cell_type": "code",
   "execution_count": 1,
   "id": "581d4c25-6457-4dd9-ae64-4101d58ca606",
   "metadata": {},
   "outputs": [
    {
     "name": "stdin",
     "output_type": "stream",
     "text": [
      "Enter IP Address (e.g. 192.168.1.1):  172.126.30.18\n",
      "Enter Subnet Mask (e.g. 255.255.255.0):  255.255.0.0\n"
     ]
    },
    {
     "name": "stdout",
     "output_type": "stream",
     "text": [
      "\n",
      "--- Network Information ---\n",
      "Network IP: 172.126.0.0\n",
      "Broadcast IP: 172.126.255.255\n",
      "Subnet Mask: 255.255.0.0\n",
      "First Usable IP: 172.126.0.1\n",
      "Last Usable IP: 172.126.255.254\n",
      "Total Usable Hosts: 65534\n"
     ]
    }
   ],
   "source": [
    "import ipaddress\n",
    "\n",
    "def calculate_network_info():\n",
    "    # Get input from the user\n",
    "    ip_input = input(\"Enter IP Address (e.g. 192.168.1.1): \")\n",
    "    subnet_mask_input = input(\"Enter Subnet Mask (e.g. 255.255.255.0): \")\n",
    "    \n",
    "    # Combine the IP and subnet mask into a network address\n",
    "    network_address = ip_input + '/' + subnet_mask_input\n",
    "    \n",
    "    # Convert the network address to an ip_network object\n",
    "    network = ipaddress.IPv4Network(network_address, strict=False)\n",
    "    \n",
    "    # Extract the necessary information\n",
    "    network_ip = network.network_address\n",
    "    broadcast_ip = network.broadcast_address\n",
    "    subnet_mask = network.netmask\n",
    "    first_ip = list(network.hosts())[0]\n",
    "    last_ip = list(network.hosts())[-1]\n",
    "    total_hosts = network.num_addresses - 2  # Subtract 2 for network and broadcast addresses\n",
    "    \n",
    "    # Print the results\n",
    "    print(\"\\n--- Network Information ---\")\n",
    "    print(f\"Network IP: {network_ip}\")\n",
    "    print(f\"Broadcast IP: {broadcast_ip}\")\n",
    "    print(f\"Subnet Mask: {subnet_mask}\")\n",
    "    print(f\"First Usable IP: {first_ip}\")\n",
    "    print(f\"Last Usable IP: {last_ip}\")\n",
    "    print(f\"Total Usable Hosts: {total_hosts}\")\n",
    "\n",
    "# Call the function\n",
    "calculate_network_info()"
   ]
  }
 ],
 "metadata": {
  "kernelspec": {
   "display_name": "Python 3 (ipykernel)",
   "language": "python",
   "name": "python3"
  },
  "language_info": {
   "codemirror_mode": {
    "name": "ipython",
    "version": 3
   },
   "file_extension": ".py",
   "mimetype": "text/x-python",
   "name": "python",
   "nbconvert_exporter": "python",
   "pygments_lexer": "ipython3",
   "version": "3.12.2"
  }
 },
 "nbformat": 4,
 "nbformat_minor": 5
}
