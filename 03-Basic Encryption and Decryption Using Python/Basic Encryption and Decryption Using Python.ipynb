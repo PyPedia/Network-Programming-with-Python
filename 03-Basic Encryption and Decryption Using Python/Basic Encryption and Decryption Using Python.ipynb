{
 "cells": [
  {
   "cell_type": "markdown",
   "id": "c945403b-ff15-45d2-bd11-aeeb999ca6ef",
   "metadata": {},
   "source": [
    "Encryption and decryption are fundamental concepts in cryptography, which involves transforming data into an unreadable format (encryption) and converting it back to its original format (decryption). Here's a step-by-step guide with detailed examples using Python.\n",
    "\n",
    "**Step 1: Understand the Basics**\n",
    "\n",
    "* *Encryption:* The process of encoding information so that only authorized parties can access it.\n",
    "* *Decryption:* The process of converting the encoded (encrypted) data back into its original form.\n",
    "* *Key:* A piece of information used in both encryption and decryption.\n",
    "* *Cipher:* The algorithm used for encrypting and decrypting data.\n",
    "\n",
    "**Step 2: Types of Encryption**\n",
    "\n",
    "* *Symmetric Encryption:* The same key is used for encryption and decryption.\n",
    "* *Asymmetric Encryption:* A pair of keys (public and private) is used. The public key encrypts data, and the private key decrypts it.\n",
    "\n",
    "**Step 3: Symmetric Encryption Example**\n",
    "\n",
    "We will use the *Fernet* module from Python's cryptography library.\n",
    "\n",
    "***Installation***\n",
    "\n",
    "Run the following command to install the cryptography library:"
   ]
  },
  {
   "cell_type": "code",
   "execution_count": null,
   "id": "f6548a78-0015-487d-9526-0d61fc11af12",
   "metadata": {},
   "outputs": [],
   "source": [
    "pip install cryptography"
   ]
  },
  {
   "cell_type": "markdown",
   "id": "50d73492-b0bb-40e5-8ce6-47037da25185",
   "metadata": {},
   "source": [
    "***Encryption and Decryption Code***"
   ]
  },
  {
   "cell_type": "code",
   "execution_count": 1,
   "id": "4cc694c8-0b2f-4a8c-aaf8-85b546c51727",
   "metadata": {},
   "outputs": [
    {
     "name": "stdout",
     "output_type": "stream",
     "text": [
      "Encrypted Message: b'gAAAAABnlPBoFQM8-80e0R1Z3GYQiJWUe4k5Ge3S_1kHz7tBPVVv-46ZCJYrOczF_6ffwJTw6Gyvs-PVUV8YXu7koy93ZZdOT61x4eVy43uadSTEIq2LzhrdqOk-56XrXtiU7qANP2R5'\n",
      "Decrypted Message: Hello, Yaser! This is a secret message.\n"
     ]
    }
   ],
   "source": [
    "from cryptography.fernet import Fernet\n",
    "\n",
    "# Generate a key\n",
    "key = Fernet.generate_key()\n",
    "cipher_suite = Fernet(key)\n",
    "\n",
    "# Message to encrypt\n",
    "message = b\"Hello, Yaser! This is a secret message.\"\n",
    "\n",
    "# Encryption\n",
    "encrypted_message = cipher_suite.encrypt(message)\n",
    "print(\"Encrypted Message:\", encrypted_message)\n",
    "\n",
    "# Decryption\n",
    "decrypted_message = cipher_suite.decrypt(encrypted_message)\n",
    "print(\"Decrypted Message:\", decrypted_message.decode())"
   ]
  },
  {
   "cell_type": "markdown",
   "id": "e6fc0577-f105-4742-83cf-9b4d934e7d15",
   "metadata": {},
   "source": [
    "**Step 4: Asymmetric Encryption Example**\n",
    "\n",
    "We will use the *rsa* module from Python's cryptography library.\n",
    "\n",
    "Encryption and Decryption Code"
   ]
  },
  {
   "cell_type": "code",
   "execution_count": 2,
   "id": "a4b55138-0382-47b9-8ca6-02027293fe26",
   "metadata": {},
   "outputs": [
    {
     "name": "stdout",
     "output_type": "stream",
     "text": [
      "Encrypted Message: b\"u\\xfe\\x95\\xaf\\x9f-\\x1dT\\xb8~W\\xe6\\r\\x19O\\xa6\\xf9\\xcd\\x90\\xf1\\xb30E\\xc7~%}/\\x07\\xa1\\xce=Y\\x1f\\x89\\xaf\\x13\\x8a\\xdd.5H\\xcdY\\x80\\xf8R\\xf1x\\x19\\x9e\\xf4\\xc7\\xfe\\x7f\\xfb\\xe1\\xb3v\\x07(\\xa1`\\x1aA\\xe0\\x89A3?\\x1a\\x90Yu6\\xa5\\x955U(_\\xd9,\\x1d^QB\\xc0\\x8a\\x942@0\\xe3 \\x00\\x92h\\x1a\\xb7\\xba4\\xf3\\xa8\\xec\\xaf\\x02x\\x18xA\\xbd\\x06J\\xae<pk\\x1f\\xe3P\\xe7$~K?e\\xdc\\x1dz|\\xa2\\xee\\xd7o\\xce\\xba\\xc7\\x03\\xf0:\\xa6\\xf468\\xe6\\xfe\\xe5\\x87\\xcc\\x99\\xc8\\xec\\xd3\\xd7X\\x98\\xc3_f\\x1cy\\xd6\\xa6\\x00\\x97)\\xd4\\x87\\x18w\\xb7\\r'SSA\\xe2\\xa0\\xe8\\xf1(E~w[2\\x15\\xb6\\xbaH'\\x9a\\xf1\\xa7\\xc8fB9\\x93\\xbb7\\xaf\\x1cF\\x9d*\\xab/zV\\xb8\\xad\\xb5\\xed/\\xf6j\\xf3\\x978K\\xc4yK\\x11C\\xc22\\xd5\\x8a\\x9c\\xde\\x144*\\x03h\\xd3\\xc2,\\x85\\xd05{\\xeeR\\x82\\xe7\\x81\\x17Lz\\xb6g\\xf6\"\n",
      "Decrypted Message: Hello, Yaser! This is a secure message.\n"
     ]
    }
   ],
   "source": [
    "from cryptography.hazmat.primitives.asymmetric import rsa\n",
    "from cryptography.hazmat.primitives.asymmetric import padding\n",
    "from cryptography.hazmat.primitives import hashes\n",
    "\n",
    "# Generate RSA keys\n",
    "private_key = rsa.generate_private_key(public_exponent=65537, key_size=2048)\n",
    "public_key = private_key.public_key()\n",
    "\n",
    "# Message to encrypt\n",
    "message = b\"Hello, Yaser! This is a secure message.\"\n",
    "\n",
    "# Encryption\n",
    "encrypted_message = public_key.encrypt(\n",
    "    message,\n",
    "    padding.OAEP(\n",
    "        mgf=padding.MGF1(algorithm=hashes.SHA256()),\n",
    "        algorithm=hashes.SHA256(),\n",
    "        label=None\n",
    "    )\n",
    ")\n",
    "print(\"Encrypted Message:\", encrypted_message)\n",
    "\n",
    "# Decryption\n",
    "decrypted_message = private_key.decrypt(\n",
    "    encrypted_message,\n",
    "    padding.OAEP(\n",
    "        mgf=padding.MGF1(algorithm=hashes.SHA256()),\n",
    "        algorithm=hashes.SHA256(),\n",
    "        label=None\n",
    "    )\n",
    ")\n",
    "print(\"Decrypted Message:\", decrypted_message.decode())"
   ]
  },
  {
   "cell_type": "markdown",
   "id": "2b9ec628-aca6-4b32-b923-b8b1ccb0f5c7",
   "metadata": {},
   "source": [
    "**Step 5: Hashing**\n",
    "\n",
    "Hashing is a one-way cryptographic transformation. It is used for *verification, not decryption*.\n",
    "\n",
    "Example with SHA-256"
   ]
  },
  {
   "cell_type": "code",
   "execution_count": 3,
   "id": "c4b76c9f-cc7d-4a98-b9d3-b50253e4913e",
   "metadata": {},
   "outputs": [
    {
     "name": "stdout",
     "output_type": "stream",
     "text": [
      "Hashed Message: 820e6fba8163badcd089ccabe01f85e087e4a17e96285d3f4d7c66f3b3c000d9\n"
     ]
    }
   ],
   "source": [
    "import hashlib\n",
    "\n",
    "# Message to hash\n",
    "message = \"Hello, Yaser!\"\n",
    "\n",
    "# Hashing\n",
    "hashed_message = hashlib.sha256(message.encode()).hexdigest()\n",
    "print(\"Hashed Message:\", hashed_message)"
   ]
  },
  {
   "cell_type": "markdown",
   "id": "b8fbb9db-bed9-41e2-ac0b-362da38b6454",
   "metadata": {},
   "source": [
    "**Step 6: Advanced Example with AES**\n",
    "\n",
    "AES (Advanced Encryption Standard) is a symmetric encryption algorithm.\n",
    "\n",
    "***Installation***\n",
    "\n",
    "Run:"
   ]
  },
  {
   "cell_type": "code",
   "execution_count": null,
   "id": "2ead9bf1-8899-4c01-98b6-90ebf106897c",
   "metadata": {},
   "outputs": [],
   "source": [
    "pip install pycryptodome"
   ]
  },
  {
   "cell_type": "markdown",
   "id": "f40a432c-e224-4731-9e53-66f6188518c1",
   "metadata": {},
   "source": [
    "***Encryption and Decryption Code***"
   ]
  },
  {
   "cell_type": "code",
   "execution_count": 5,
   "id": "c369a963-522d-4ebf-af67-f1f39214252d",
   "metadata": {},
   "outputs": [
    {
     "name": "stdout",
     "output_type": "stream",
     "text": [
      "Encrypted Message: b'\\xe3^\\x91!\\x17\\xee\\xdf\\x9e\"\\x9b\\xdd\\xf3u\\xe2\\x10G\\x87\\x12\\xa7Q\\x8a\\xd8\\x83n\\xcc\\x11\\xf2\\x10\\xe7)\\x84\\xdf\\xdaX\\xc8\\xd8Y\\xf6\\x935bI\\xa9\\xfb\\x1d\\xa1\\x1b\\x97'\n",
      "Decrypted Message: Hello, Yaser! AES Encryption Example.\n"
     ]
    }
   ],
   "source": [
    "from Crypto.Cipher import AES\n",
    "from Crypto.Util.Padding import pad, unpad\n",
    "from Crypto.Random import get_random_bytes\n",
    "\n",
    "# Key and initialization vector (IV)\n",
    "key = get_random_bytes(16)  # 16 bytes for AES-128\n",
    "iv = get_random_bytes(16)   # 16 bytes for IV\n",
    "\n",
    "# Message to encrypt\n",
    "message = b\"Hello, Yaser! AES Encryption Example.\"\n",
    "\n",
    "# Encryption\n",
    "cipher = AES.new(key, AES.MODE_CBC, iv)\n",
    "encrypted_message = cipher.encrypt(pad(message, AES.block_size))\n",
    "print(\"Encrypted Message:\", encrypted_message)\n",
    "\n",
    "# Decryption\n",
    "cipher = AES.new(key, AES.MODE_CBC, iv)\n",
    "decrypted_message = unpad(cipher.decrypt(encrypted_message), AES.block_size)\n",
    "print(\"Decrypted Message:\", decrypted_message.decode())"
   ]
  }
 ],
 "metadata": {
  "kernelspec": {
   "display_name": "Python 3 (ipykernel)",
   "language": "python",
   "name": "python3"
  },
  "language_info": {
   "codemirror_mode": {
    "name": "ipython",
    "version": 3
   },
   "file_extension": ".py",
   "mimetype": "text/x-python",
   "name": "python",
   "nbconvert_exporter": "python",
   "pygments_lexer": "ipython3",
   "version": "3.12.2"
  }
 },
 "nbformat": 4,
 "nbformat_minor": 5
}
