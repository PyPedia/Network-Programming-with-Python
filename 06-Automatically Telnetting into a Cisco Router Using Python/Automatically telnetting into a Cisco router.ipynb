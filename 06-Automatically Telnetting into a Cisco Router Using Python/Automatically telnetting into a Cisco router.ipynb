{
 "cells": [
  {
   "attachments": {
    "c1652e1f-8d8e-4490-80be-4a3a34d9d4ee.png": {
     "image/png": "[encoded data removed]"
    }
   },
   "cell_type": "markdown",
   "id": "2e507177-844c-4cd8-a2d7-789650980b7a",
   "metadata": {},
   "source": [
    "To achieve your goal of automatically telnetting into a Cisco router and changing its hostname using Python, let’s break down the task into step-by-step configurations and code explanations.\n",
    "\n",
    "![002.png](attachment:c1652e1f-8d8e-4490-80be-4a3a34d9d4ee.png)"
   ]
  },
  {
   "cell_type": "markdown",
   "id": "db969e1b-d0ab-4ad6-bea2-4bb79f346ab1",
   "metadata": {},
   "source": [
    "**Step 1: Network Setup Configuration**\n",
    "\n",
    "Based on the topology provided:\n",
    "\n",
    "***Router Configuration***\n",
    "\n",
    "* Set up an IP address for the router interface.\n",
    "* Enable Telnet access on the router.\n",
    "* Configure a password for Telnet access."
   ]
  },
  {
   "cell_type": "code",
   "execution_count": null,
   "id": "0d6f7a63-857a-4f7b-8cbc-7377051011dc",
   "metadata": {},
   "outputs": [],
   "source": [
    "R1#configure terminal\n",
    "R1(config)#interface fastEthernet 0/0\n",
    "R1(config-if)#ip address 192.168.202.1 255.255.255.0\n",
    "R1(config-if)#no shutdown\n",
    "R1(config-if)#exit\n",
    "R1(config)#line vty 0 4\n",
    "R1(config-line)#password rahmati\n",
    "R1(config-line)#login\n",
    "R1(config-line)#exit\n",
    "R1(config)#exit\n",
    "R1#ping 192.168.202.10\n",
    "Type escape sequence to abort.\n",
    "Sending 5, 100-byte ICMP Echos to 192.168.202.10, timeout is 2 seconds:\n",
    "!!!!!\n",
    "Success rate is 100 percent (5/5), round-trip min/avg/max = 4/12/28 ms\n",
    "R1#ping 192.168.202.11\n",
    "Type escape sequence to abort.\n",
    "Sending 5, 100-byte ICMP Echos to 192.168.202.11, timeout is 2 seconds:\n",
    "!!!!!\n",
    "Success rate is 100 percent (5/5), round-trip min/avg/max = 4/8/20 ms\n",
    "R1#"
   ]
  },
  {
   "cell_type": "markdown",
   "id": "fbc98853-262d-415c-9949-c14852038b24",
   "metadata": {},
   "source": [
    "***PC Configuration***\n",
    "\n",
    "* Ensure the PC is in the same subnet as the router.\n",
    "* Test connectivity between the PC and the router."
   ]
  },
  {
   "cell_type": "code",
   "execution_count": null,
   "id": "1d07ed85-a7bf-4ad2-b32a-c0bfeb92e030",
   "metadata": {},
   "outputs": [],
   "source": [
    "PC1> ip 192.168.202.11/24 192.168.202.1\n",
    "Checking for duplicate address...\n",
    "PC1 : 192.168.202.11 255.255.255.0 gateway 192.168.202.1\n",
    "\n",
    "PC1> save\n",
    "Saving startup configuration to startup.vpc\n",
    ".  done\n",
    "\n",
    "PC1> show ip\n",
    "\n",
    "NAME        : PC1[1]\n",
    "IP/MASK     : 192.168.202.11/24\n",
    "GATEWAY     : 192.168.202.1\n",
    "DNS         :\n",
    "MAC         : 00:50:79:66:68:00\n",
    "LPORT       : 20008\n",
    "RHOST:PORT  : 127.0.0.1:20009\n",
    "MTU         : 1500\n",
    "\n",
    "PC1>"
   ]
  },
  {
   "cell_type": "markdown",
   "id": "53b00875-9261-4c53-9dbe-f0ff4c78a06e",
   "metadata": {},
   "source": [
    "**Step 2: Python Code Explanation**\n",
    "\n",
    "We’ll write a Python script to:\n",
    "\n",
    "* Use the Telnet protocol to connect to the router.\n",
    "* Log in with the Telnet password.\n",
    "* Change the router’s hostname.\n",
    "\n",
    "We'll use the *telnetlib* module in Python for this.\n",
    "\n",
    "**Python Code**\n",
    "\n",
    "Here is the Python script with detailed comments:"
   ]
  },
  {
   "cell_type": "code",
   "execution_count": 3,
   "id": "0f55e7c6-980b-4248-8671-5114c31e895c",
   "metadata": {},
   "outputs": [
    {
     "name": "stdout",
     "output_type": "stream",
     "text": [
      "Connected to 192.168.202.1\n",
      "Login successful\n",
      " \n",
      "R1>enable\n",
      "Password: \n",
      "R1#configure terminal\n",
      "Enter configuration commands, one per line.  End with CNTL/Z.\n",
      "R1(config)#hostname MyNewRouter\n",
      "MyNewRouter(config)#exit\n",
      "MyNewRouter#write memory\n",
      "Building configuration...\n",
      "[OK]\n",
      "MyNewRouter#exit\n",
      "\n"
     ]
    }
   ],
   "source": [
    "import telnetlib\n",
    "\n",
    "# Step 1: Define the router's IP and login credentials\n",
    "ROUTER_IP = \"192.168.202.1\"\n",
    "TELNET_PORT = 23\n",
    "TELNET_TIMEOUT = 5\n",
    "PASSWORD = \"rahmati\"\n",
    "NEW_HOSTNAME = \"MyNewRouter\"\n",
    "\n",
    "# Step 2: Connect to the router using Telnet\n",
    "try:\n",
    "    # Establish a Telnet connection\n",
    "    tn = telnetlib.Telnet(ROUTER_IP, TELNET_PORT, TELNET_TIMEOUT)\n",
    "    print(f\"Connected to {ROUTER_IP}\")\n",
    "\n",
    "    # Step 3: Log in with the password\n",
    "    tn.read_until(b\"Password:\")  # Wait for the password prompt\n",
    "    tn.write(PASSWORD.encode('ascii') + b\"\\n\")\n",
    "    print(\"Login successful\")\n",
    "\n",
    "    # Step 4: Enter enable mode and configure terminal\n",
    "    tn.write(b\"enable\\n\")\n",
    "    tn.write(PASSWORD.encode('ascii') + b\"\\n\")\n",
    "    tn.write(b\"configure terminal\\n\")\n",
    "\n",
    "    # Step 5: Change the hostname\n",
    "    tn.write(f\"hostname {NEW_HOSTNAME}\\n\".encode('ascii'))\n",
    "\n",
    "    # Step 6: Exit and save configuration\n",
    "    tn.write(b\"exit\\n\")\n",
    "    tn.write(b\"write memory\\n\")\n",
    "    tn.write(b\"exit\\n\")\n",
    "\n",
    "    # Step 7: Read the final output\n",
    "    print(tn.read_all().decode('ascii'))\n",
    "\n",
    "except Exception as e:\n",
    "    print(f\"Failed to connect to the router: {e}\")"
   ]
  }
 ],
 "metadata": {
  "kernelspec": {
   "display_name": "Python 3 (ipykernel)",
   "language": "python",
   "name": "python3"
  },
  "language_info": {
   "codemirror_mode": {
    "name": "ipython",
    "version": 3
   },
   "file_extension": ".py",
   "mimetype": "text/x-python",
   "name": "python",
   "nbconvert_exporter": "python",
   "pygments_lexer": "ipython3",
   "version": "3.12.2"
  }
 },
 "nbformat": 4,
 "nbformat_minor": 5
}
