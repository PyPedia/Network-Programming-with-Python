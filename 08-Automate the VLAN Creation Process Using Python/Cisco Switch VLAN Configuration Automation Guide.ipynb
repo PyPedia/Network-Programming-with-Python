{
 "cells": [
  {
   "attachments": {
    "fdf04dc8-2cc4-4e93-9aad-d7a23d66fc21.png": {
     "image/png": "[encoded data removed]"
    }
   },
   "cell_type": "markdown",
   "id": "70fdc973-25b0-44c6-8b04-da0e3c482c74",
   "metadata": {},
   "source": [
    "**1. Scenario**\n",
    "\n",
    "To automate the process of telnetting into a Cisco switch, creating a VLAN with ID 99, and assigning interface e0/0 to this VLAN using Python, you can follow these steps.\n",
    "\n",
    "![004.png](attachment:fdf04dc8-2cc4-4e93-9aad-d7a23d66fc21.png)\n",
    "\n",
    "Before running the Python script to automate the configuration of a Cisco switch, there are several pre-configuration steps you need to ensure are in place. These steps are crucial to make sure the script runs smoothly and the switch is ready to accept the configuration changes. Here’s a detailed guide:\n",
    "\n",
    "**2. Switch Configuration**"
   ]
  },
  {
   "cell_type": "code",
   "execution_count": null,
   "id": "46639b9a-d0dc-4730-9edb-0ef583fb1233",
   "metadata": {},
   "outputs": [],
   "source": [
    "IOU1#configure terminal\n",
    "IOU1(config)#interface vlan 1\n",
    "IOU1(config-if)#ip add 192.168.202.1 255.255.255.0\n",
    "IOU1(config-if)#no shutdown\n",
    "IOU1(config-if)#exit\n",
    "IOU1(config)#line vty 0 4\n",
    "IOU1(config-line)#password cisco\n",
    "IOU1(config-line)#login\n",
    "IOU1(config-line)#exit\n",
    "IOU1(config)#enable password cisco\n",
    "IOU1(config)#exit\n",
    "IOU1#write memory\n",
    "IOU1#show vlan brief\n",
    "\n",
    "VLAN Name                             Status    Ports\n",
    "---- -------------------------------- --------- -------------------------------\n",
    "1    default                          active    Et0/0, Et0/1, Et0/2, Et0/3\n",
    "                                                Et1/0, Et1/1, Et1/2, Et1/3\n",
    "                                                Et2/0, Et2/1, Et2/2, Et2/3\n",
    "                                                Et3/0, Et3/1, Et3/2, Et3/3\n",
    "1002 fddi-default                     act/unsup\n",
    "1003 token-ring-default               act/unsup\n",
    "1004 fddinet-default                  act/unsup\n",
    "1005 trnet-default                    act/unsup\n",
    "IOU1#"
   ]
  },
  {
   "cell_type": "markdown",
   "id": "a7554f5a-9939-462c-ae7e-b34f02b6b380",
   "metadata": {},
   "source": [
    "**3. Network Connectivity**"
   ]
  },
  {
   "cell_type": "code",
   "execution_count": null,
   "id": "68a82158-c5bf-46d1-9a6a-0b528e367ba7",
   "metadata": {},
   "outputs": [],
   "source": [
    "PC1> show ip\n",
    "\n",
    "NAME        : PC1[1]\n",
    "IP/MASK     : 192.168.202.11/24\n",
    "GATEWAY     : 192.168.202.1\n",
    "DNS         :\n",
    "MAC         : 00:50:79:66:68:00\n",
    "LPORT       : 20008\n",
    "RHOST:PORT  : 127.0.0.1:20009\n",
    "MTU         : 1500\n",
    "\n",
    "PC1> ping 192.168.202.1\n",
    "\n",
    "84 bytes from 192.168.202.1 icmp_seq=1 ttl=255 time=0.931 ms\n",
    "84 bytes from 192.168.202.1 icmp_seq=2 ttl=255 time=0.956 ms\n",
    "84 bytes from 192.168.202.1 icmp_seq=3 ttl=255 time=1.012 ms\n",
    "\n",
    "PC1> ping 192.168.202.10\n",
    "\n",
    "84 bytes from 192.168.202.10 icmp_seq=1 ttl=128 time=1.659 ms\n",
    "84 bytes from 192.168.202.10 icmp_seq=2 ttl=128 time=1.736 ms\n",
    "84 bytes from 192.168.202.10 icmp_seq=3 ttl=128 time=1.767 ms\n",
    "PC1>"
   ]
  },
  {
   "cell_type": "markdown",
   "id": "c9c6d5d3-64a5-45a1-ba37-b707b23335a7",
   "metadata": {},
   "source": [
    "**4. Install Required Libraries**\n",
    "    \n",
    "Ensure you have Python installed. The telnetlib library is part of Python's standard library, so no additional installation is required.\n",
    "\n",
    "**5. Write the Python Script**"
   ]
  },
  {
   "cell_type": "code",
   "execution_count": 3,
   "id": "dc93264e-0446-47a7-900f-cd4b218f17d7",
   "metadata": {},
   "outputs": [
    {
     "name": "stdout",
     "output_type": "stream",
     "text": [
      "\n",
      "IOU1#configure terminal\n",
      "Enter configuration commands, one per line.  End with CNTL/Z.\n",
      "IOU1(config)#vlan 99\n",
      "IOU1(config-vlan)#name MGMT_VLAN\n",
      "IOU1(config-vlan)#exit\n",
      "IOU1(config)#interface e0/0\n",
      "IOU1(config-if)#switchport mode access\n",
      "IOU1(config-if)#switchport access vlan 99\n",
      "IOU1(config-if)#exit\n",
      "IOU1(config)#end\n",
      "IOU1#write memory\n",
      "Building configuration...\n",
      "Compressed configuration from 1455 bytes to 885 bytes[OK]\n",
      "IOU1#exit\n",
      "\n"
     ]
    }
   ],
   "source": [
    "import telnetlib\n",
    "\n",
    "# Define the connection parameters\n",
    "HOST = \"192.168.202.1\"  # Replace with your switch's IP address\n",
    "user = \"your_username\"  # Replace with your username\n",
    "password = \"cisco\"  # Replace with your password\n",
    "\n",
    "# Create a Telnet session\n",
    "tn = telnetlib.Telnet(HOST)\n",
    "\n",
    "# Read until the login prompt and enter the username\n",
    "# tn.read_until(b\"Username: \")\n",
    "# tn.write(user.encode('ascii') + b\"\\n\")\n",
    "\n",
    "# Read until the password prompt and enter the password\n",
    "tn.read_until(b\"Password: \")\n",
    "tn.write(password.encode('ascii') + b\"\\n\")\n",
    "\n",
    "# Enter enable mode\n",
    "tn.write(b\"enable\\n\")\n",
    "tn.read_until(b\"Password: \")  # If there's an enable password, enter it here\n",
    "tn.write(password.encode('ascii') + b\"\\n\")\n",
    "\n",
    "# Enter configuration mode\n",
    "tn.write(b\"configure terminal\\n\")\n",
    "\n",
    "# Create VLAN 99\n",
    "tn.write(b\"vlan 99\\n\")\n",
    "tn.write(b\"name MGMT_VLAN\\n\")\n",
    "tn.write(b\"exit\\n\")\n",
    "\n",
    "# Assign interface e0/0 to VLAN 99\n",
    "tn.write(b\"interface e0/0\\n\")\n",
    "tn.write(b\"switchport mode access\\n\")\n",
    "tn.write(b\"switchport access vlan 99\\n\")\n",
    "tn.write(b\"exit\\n\")\n",
    "\n",
    "# Exit configuration mode and save the configuration\n",
    "tn.write(b\"end\\n\")\n",
    "tn.write(b\"write memory\\n\")\n",
    "\n",
    "# Close the Telnet session\n",
    "tn.write(b\"exit\\n\")\n",
    "print(tn.read_all().decode('ascii'))\n",
    "tn.close()"
   ]
  },
  {
   "cell_type": "markdown",
   "id": "2d6039f8-482c-436a-bb7f-9abd61753a89",
   "metadata": {},
   "source": [
    "**6. Verify VLAN Configuration**"
   ]
  },
  {
   "cell_type": "code",
   "execution_count": null,
   "id": "d284b0c8-f896-4a21-9a96-06b9488b8158",
   "metadata": {},
   "outputs": [],
   "source": [
    "IOU1#show vlan brief\n",
    "\n",
    "VLAN Name                             Status    Ports\n",
    "---- -------------------------------- --------- -------------------------------\n",
    "1    default                          active    Et0/1, Et0/2, Et0/3, Et1/0\n",
    "                                                Et1/1, Et1/2, Et1/3, Et2/0\n",
    "                                                Et2/1, Et2/2, Et2/3, Et3/0\n",
    "                                                Et3/1, Et3/2, Et3/3\n",
    "99   MGMT_VLAN                        active    Et0/0\n",
    "1002 fddi-default                     act/unsup\n",
    "1003 token-ring-default               act/unsup\n",
    "1004 fddinet-default                  act/unsup\n",
    "1005 trnet-default                    act/unsup\n",
    "IOU1#"
   ]
  }
 ],
 "metadata": {
  "kernelspec": {
   "display_name": "Python 3 (ipykernel)",
   "language": "python",
   "name": "python3"
  },
  "language_info": {
   "codemirror_mode": {
    "name": "ipython",
    "version": 3
   },
   "file_extension": ".py",
   "mimetype": "text/x-python",
   "name": "python",
   "nbconvert_exporter": "python",
   "pygments_lexer": "ipython3",
   "version": "3.12.2"
  }
 },
 "nbformat": 4,
 "nbformat_minor": 5
}
